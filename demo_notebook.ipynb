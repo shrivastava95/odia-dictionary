{
  "nbformat": 4,
  "nbformat_minor": 0,
  "metadata": {
    "colab": {
      "provenance": [],
      "collapsed_sections": [
        "qrE3NXYDY64O",
        "GAPVpTuXZIMr",
        "8pHiJJybdCE0",
        "S3CH4MHuf-yn"
      ]
    },
    "kernelspec": {
      "name": "python3",
      "display_name": "Python 3"
    },
    "language_info": {
      "name": "python"
    }
  },
  "cells": [
    {
      "cell_type": "code",
      "source": [
        "import time\n",
        "from functools import wraps\n",
        "\n",
        "def timer_decorator(func):\n",
        "    @wraps(func)\n",
        "    def wrapper(*args, **kwargs):\n",
        "        start_time = time.time()\n",
        "        result = func(*args, **kwargs)\n",
        "        end_time = time.time()\n",
        "        execution_time = end_time - start_time\n",
        "        print(f\"Execution time for {func.__name__}: {execution_time:.6f} seconds\")\n",
        "        return result\n",
        "    return wrapper"
      ],
      "metadata": {
        "id": "1Ep2eYo9io41"
      },
      "execution_count": 59,
      "outputs": []
    },
    {
      "cell_type": "code",
      "source": [
        "!wget https://github.com/shrivastava95/odia-dictionary/raw/main/Odia.Dictionary.pdf"
      ],
      "metadata": {
        "colab": {
          "base_uri": "https://localhost:8080/"
        },
        "id": "XBFnBhz6TB8J",
        "outputId": "84bbe8c0-4a27-4406-e57d-07e2ce60b2bd"
      },
      "execution_count": 1,
      "outputs": [
        {
          "output_type": "stream",
          "name": "stdout",
          "text": [
            "--2023-06-10 22:23:52--  https://github.com/shrivastava95/odia-dictionary/raw/main/Odia.Dictionary.pdf\n",
            "Resolving github.com (github.com)... 192.30.255.112\n",
            "Connecting to github.com (github.com)|192.30.255.112|:443... connected.\n",
            "HTTP request sent, awaiting response... 302 Found\n",
            "Location: https://raw.githubusercontent.com/shrivastava95/odia-dictionary/main/Odia.Dictionary.pdf [following]\n",
            "--2023-06-10 22:23:53--  https://raw.githubusercontent.com/shrivastava95/odia-dictionary/main/Odia.Dictionary.pdf\n",
            "Resolving raw.githubusercontent.com (raw.githubusercontent.com)... 185.199.108.133, 185.199.109.133, 185.199.110.133, ...\n",
            "Connecting to raw.githubusercontent.com (raw.githubusercontent.com)|185.199.108.133|:443... connected.\n",
            "HTTP request sent, awaiting response... 200 OK\n",
            "Length: 4181737 (4.0M) [application/octet-stream]\n",
            "Saving to: ‘Odia.Dictionary.pdf’\n",
            "\n",
            "Odia.Dictionary.pdf 100%[===================>]   3.99M  --.-KB/s    in 0.05s   \n",
            "\n",
            "2023-06-10 22:23:53 (85.6 MB/s) - ‘Odia.Dictionary.pdf’ saved [4181737/4181737]\n",
            "\n"
          ]
        }
      ]
    },
    {
      "cell_type": "markdown",
      "source": [
        "# Dependencies / Setup\n",
        "Most of these will need to be setup while you are running the repository code too, so this should help you setup on your own device to run the main repo scripts."
      ],
      "metadata": {
        "id": "2xzkyC-tTzHM"
      }
    },
    {
      "cell_type": "markdown",
      "source": [
        "## 1. pdf2image setup"
      ],
      "metadata": {
        "id": "qrE3NXYDY64O"
      }
    },
    {
      "cell_type": "code",
      "source": [
        "# poppler - https://pdf2image.readthedocs.io/en/latest/installation.html\n",
        "# Poppler is the underlying project that does the magic in pdf2image.\n",
        "!sudo apt-get install poppler-utils\n",
        "!pdftoppm -h"
      ],
      "metadata": {
        "colab": {
          "base_uri": "https://localhost:8080/"
        },
        "id": "LlXHn9SKTIqE",
        "outputId": "63b08140-8fab-4178-b49c-256f530aba3e"
      },
      "execution_count": null,
      "outputs": [
        {
          "output_type": "stream",
          "name": "stdout",
          "text": [
            "Reading package lists... Done\n",
            "Building dependency tree       \n",
            "Reading state information... Done\n",
            "The following NEW packages will be installed:\n",
            "  poppler-utils\n",
            "0 upgraded, 1 newly installed, 0 to remove and 34 not upgraded.\n",
            "Need to get 174 kB of archives.\n",
            "After this operation, 754 kB of additional disk space will be used.\n",
            "Get:1 http://archive.ubuntu.com/ubuntu focal-updates/main amd64 poppler-utils amd64 0.86.1-0ubuntu1.1 [174 kB]\n",
            "Fetched 174 kB in 0s (815 kB/s)\n",
            "debconf: unable to initialize frontend: Dialog\n",
            "debconf: (No usable dialog-like program is installed, so the dialog based frontend cannot be used. at /usr/share/perl5/Debconf/FrontEnd/Dialog.pm line 76, <> line 1.)\n",
            "debconf: falling back to frontend: Readline\n",
            "debconf: unable to initialize frontend: Readline\n",
            "debconf: (This frontend requires a controlling tty.)\n",
            "debconf: falling back to frontend: Teletype\n",
            "dpkg-preconfigure: unable to re-open stdin: \n",
            "Selecting previously unselected package poppler-utils.\n",
            "(Reading database ... 122542 files and directories currently installed.)\n",
            "Preparing to unpack .../poppler-utils_0.86.1-0ubuntu1.1_amd64.deb ...\n",
            "Unpacking poppler-utils (0.86.1-0ubuntu1.1) ...\n",
            "Setting up poppler-utils (0.86.1-0ubuntu1.1) ...\n",
            "Processing triggers for man-db (2.9.1-1) ...\n",
            "pdftoppm version 0.86.1\n",
            "Copyright 2005-2020 The Poppler Developers - http://poppler.freedesktop.org\n",
            "Copyright 1996-2011 Glyph & Cog, LLC\n",
            "Usage: pdftoppm [options] [PDF-file [PPM-file-prefix]]\n",
            "  -f <int>                                 : first page to print\n",
            "  -l <int>                                 : last page to print\n",
            "  -o                                       : print only odd pages\n",
            "  -e                                       : print only even pages\n",
            "  -singlefile                              : write only the first page and do not add digits\n",
            "  -scale-dimension-before-rotation         : for rotated pdf, resize dimensions before the rotation\n",
            "  -r <fp>                                  : resolution, in DPI (default is 150)\n",
            "  -rx <fp>                                 : X resolution, in DPI (default is 150)\n",
            "  -ry <fp>                                 : Y resolution, in DPI (default is 150)\n",
            "  -scale-to <int>                          : scales each page to fit within scale-to*scale-to pixel box\n",
            "  -scale-to-x <int>                        : scales each page horizontally to fit in scale-to-x pixels\n",
            "  -scale-to-y <int>                        : scales each page vertically to fit in scale-to-y pixels\n",
            "  -x <int>                                 : x-coordinate of the crop area top left corner\n",
            "  -y <int>                                 : y-coordinate of the crop area top left corner\n",
            "  -W <int>                                 : width of crop area in pixels (default is 0)\n",
            "  -H <int>                                 : height of crop area in pixels (default is 0)\n",
            "  -sz <int>                                : size of crop square in pixels (sets W and H)\n",
            "  -cropbox                                 : use the crop box rather than media box\n",
            "  -hide-annotations                        : do not show annotations\n",
            "  -mono                                    : generate a monochrome PBM file\n",
            "  -gray                                    : generate a grayscale PGM file\n",
            "  -sep <string>                            : single character separator between name and page number, default - \n",
            "  -forcenum                                : force page number even if there is only one page \n",
            "  -png                                     : generate a PNG file\n",
            "  -jpeg                                    : generate a JPEG file\n",
            "  -jpegcmyk                                : generate a CMYK JPEG file\n",
            "  -jpegopt <string>                        : jpeg options, with format <opt1>=<val1>[,<optN>=<valN>]*\n",
            "  -overprint                               : enable overprint\n",
            "  -tiff                                    : generate a TIFF file\n",
            "  -tiffcompression <string>                : set TIFF compression: none, packbits, jpeg, lzw, deflate\n",
            "  -freetype <string>                       : enable FreeType font rasterizer: yes, no\n",
            "  -thinlinemode <string>                   : set thin line mode: none, solid, shape. Default: none\n",
            "  -aa <string>                             : enable font anti-aliasing: yes, no\n",
            "  -aaVector <string>                       : enable vector anti-aliasing: yes, no\n",
            "  -opw <string>                            : owner password (for encrypted files)\n",
            "  -upw <string>                            : user password (for encrypted files)\n",
            "  -q                                       : don't print any messages or errors\n",
            "  -v                                       : print copyright and version info\n",
            "  -h                                       : print usage information\n",
            "  -help                                    : print usage information\n",
            "  --help                                   : print usage information\n",
            "  -?                                       : print usage information\n"
          ]
        }
      ]
    },
    {
      "cell_type": "code",
      "source": [
        "# pdf2image\n",
        "!pip install pdf2image"
      ],
      "metadata": {
        "colab": {
          "base_uri": "https://localhost:8080/"
        },
        "id": "AhgB5GF-ULvu",
        "outputId": "ea7c3b21-646a-4f94-a672-9cc7ebb68478"
      },
      "execution_count": null,
      "outputs": [
        {
          "output_type": "stream",
          "name": "stdout",
          "text": [
            "Looking in indexes: https://pypi.org/simple, https://us-python.pkg.dev/colab-wheels/public/simple/\n",
            "Collecting pdf2image\n",
            "  Downloading pdf2image-1.16.3-py3-none-any.whl (11 kB)\n",
            "Requirement already satisfied: pillow in /usr/local/lib/python3.10/dist-packages (from pdf2image) (8.4.0)\n",
            "Installing collected packages: pdf2image\n",
            "Successfully installed pdf2image-1.16.3\n"
          ]
        }
      ]
    },
    {
      "cell_type": "markdown",
      "source": [
        "## 2. Tesseract OCR setup"
      ],
      "metadata": {
        "id": "GAPVpTuXZIMr"
      }
    },
    {
      "cell_type": "code",
      "source": [
        "!sudo add-apt-repository --yes ppa:alex-p/tesseract-ocr-devel"
      ],
      "metadata": {
        "id": "3PVpPbiFAl04"
      },
      "execution_count": null,
      "outputs": []
    },
    {
      "cell_type": "code",
      "source": [
        "!sudo apt install -y tesseract-ocr"
      ],
      "metadata": {
        "colab": {
          "base_uri": "https://localhost:8080/"
        },
        "id": "X1syGX08AvR8",
        "outputId": "c6428a83-7db2-4162-e926-5d394955102c"
      },
      "execution_count": null,
      "outputs": [
        {
          "output_type": "stream",
          "name": "stdout",
          "text": [
            "Reading package lists... Done\n",
            "Building dependency tree       \n",
            "Reading state information... Done\n",
            "The following additional packages will be installed:\n",
            "  libtesseract5 tesseract-ocr-eng tesseract-ocr-osd\n",
            "The following NEW packages will be installed:\n",
            "  libtesseract5 tesseract-ocr tesseract-ocr-eng tesseract-ocr-osd\n",
            "0 upgraded, 4 newly installed, 0 to remove and 40 not upgraded.\n",
            "Need to get 6,234 kB of archives.\n",
            "After this operation, 20.3 MB of additional disk space will be used.\n",
            "Get:1 http://ppa.launchpad.net/alex-p/tesseract-ocr-devel/ubuntu focal/main amd64 libtesseract5 amd64 5.3.1+git6209-9422915e-2ppa1~focal1 [1,241 kB]\n",
            "Get:2 http://ppa.launchpad.net/alex-p/tesseract-ocr-devel/ubuntu focal/main amd64 tesseract-ocr-eng all 1:5.0.0~git39-6572757-2ppa1~focal1 [1,592 kB]\n",
            "Get:3 http://ppa.launchpad.net/alex-p/tesseract-ocr-devel/ubuntu focal/main amd64 tesseract-ocr-osd all 1:5.0.0~git39-6572757-2ppa1~focal1 [2,992 kB]\n",
            "Get:4 http://ppa.launchpad.net/alex-p/tesseract-ocr-devel/ubuntu focal/main amd64 tesseract-ocr amd64 5.3.1+git6209-9422915e-2ppa1~focal1 [410 kB]\n",
            "Fetched 6,234 kB in 3s (2,161 kB/s)\n",
            "debconf: unable to initialize frontend: Dialog\n",
            "debconf: (No usable dialog-like program is installed, so the dialog based frontend cannot be used. at /usr/share/perl5/Debconf/FrontEnd/Dialog.pm line 76, <> line 4.)\n",
            "debconf: falling back to frontend: Readline\n",
            "debconf: unable to initialize frontend: Readline\n",
            "debconf: (This frontend requires a controlling tty.)\n",
            "debconf: falling back to frontend: Teletype\n",
            "dpkg-preconfigure: unable to re-open stdin: \n",
            "Selecting previously unselected package libtesseract5:amd64.\n",
            "(Reading database ... 122572 files and directories currently installed.)\n",
            "Preparing to unpack .../libtesseract5_5.3.1+git6209-9422915e-2ppa1~focal1_amd64.deb ...\n",
            "Unpacking libtesseract5:amd64 (5.3.1+git6209-9422915e-2ppa1~focal1) ...\n",
            "Selecting previously unselected package tesseract-ocr-eng.\n",
            "Preparing to unpack .../tesseract-ocr-eng_1%3a5.0.0~git39-6572757-2ppa1~focal1_all.deb ...\n",
            "Unpacking tesseract-ocr-eng (1:5.0.0~git39-6572757-2ppa1~focal1) ...\n",
            "Selecting previously unselected package tesseract-ocr-osd.\n",
            "Preparing to unpack .../tesseract-ocr-osd_1%3a5.0.0~git39-6572757-2ppa1~focal1_all.deb ...\n",
            "Unpacking tesseract-ocr-osd (1:5.0.0~git39-6572757-2ppa1~focal1) ...\n",
            "Selecting previously unselected package tesseract-ocr.\n",
            "Preparing to unpack .../tesseract-ocr_5.3.1+git6209-9422915e-2ppa1~focal1_amd64.deb ...\n",
            "Unpacking tesseract-ocr (5.3.1+git6209-9422915e-2ppa1~focal1) ...\n",
            "Setting up tesseract-ocr-eng (1:5.0.0~git39-6572757-2ppa1~focal1) ...\n",
            "Setting up libtesseract5:amd64 (5.3.1+git6209-9422915e-2ppa1~focal1) ...\n",
            "Setting up tesseract-ocr-osd (1:5.0.0~git39-6572757-2ppa1~focal1) ...\n",
            "Setting up tesseract-ocr (5.3.1+git6209-9422915e-2ppa1~focal1) ...\n",
            "Processing triggers for man-db (2.9.1-1) ...\n",
            "Processing triggers for libc-bin (2.31-0ubuntu9.9) ...\n"
          ]
        }
      ]
    },
    {
      "cell_type": "code",
      "source": [
        "!sudo apt update"
      ],
      "metadata": {
        "colab": {
          "base_uri": "https://localhost:8080/"
        },
        "id": "2JiRtClFA4fy",
        "outputId": "742abf9d-2a51-4292-892b-f7fc19ffede9"
      },
      "execution_count": null,
      "outputs": [
        {
          "output_type": "stream",
          "name": "stdout",
          "text": [
            "\u001b[33m\r0% [Working]\u001b[0m\r            \rHit:1 https://cloud.r-project.org/bin/linux/ubuntu focal-cran40/ InRelease\n",
            "\u001b[33m\r0% [Waiting for headers] [Waiting for headers] [Waiting for headers] [Waiting f\u001b[0m\r                                                                               \rHit:2 https://developer.download.nvidia.com/compute/cuda/repos/ubuntu2004/x86_64  InRelease\n",
            "\u001b[33m\r                                                                               \r0% [Waiting for headers] [Waiting for headers] [Waiting for headers]\u001b[0m\r                                                                    \rHit:3 http://ppa.launchpad.net/alex-p/tesseract-ocr-devel/ubuntu focal InRelease\n",
            "\u001b[33m\r0% [Waiting for headers] [Waiting for headers] [Connecting to ppa.launchpad.net\u001b[0m\r                                                                               \rHit:4 http://security.ubuntu.com/ubuntu focal-security InRelease\n",
            "Hit:5 http://archive.ubuntu.com/ubuntu focal InRelease\n",
            "Hit:6 http://archive.ubuntu.com/ubuntu focal-updates InRelease\n",
            "Hit:7 http://ppa.launchpad.net/c2d4u.team/c2d4u4.0+/ubuntu focal InRelease\n",
            "Hit:8 http://archive.ubuntu.com/ubuntu focal-backports InRelease\n",
            "Hit:9 http://ppa.launchpad.net/cran/libgit2/ubuntu focal InRelease\n",
            "Hit:10 http://ppa.launchpad.net/deadsnakes/ppa/ubuntu focal InRelease\n",
            "Hit:11 http://ppa.launchpad.net/graphics-drivers/ppa/ubuntu focal InRelease\n",
            "Hit:12 http://ppa.launchpad.net/ubuntugis/ppa/ubuntu focal InRelease\n",
            "Reading package lists... Done\n",
            "Building dependency tree       \n",
            "Reading state information... Done\n",
            "40 packages can be upgraded. Run 'apt list --upgradable' to see them.\n"
          ]
        }
      ]
    },
    {
      "cell_type": "code",
      "source": [
        "!tesseract --version"
      ],
      "metadata": {
        "colab": {
          "base_uri": "https://localhost:8080/"
        },
        "id": "wgKYIWNLA5qF",
        "outputId": "9a429bfc-e37b-4dbe-8113-87e6088d2300"
      },
      "execution_count": null,
      "outputs": [
        {
          "output_type": "stream",
          "name": "stdout",
          "text": [
            "tesseract 5.3.1-3-g9422\n",
            " leptonica-1.79.0\n",
            "  libgif 5.1.4 : libjpeg 8d (libjpeg-turbo 2.0.3) : libpng 1.6.37 : libtiff 4.1.0 : zlib 1.2.11 : libwebp 0.6.1 : libopenjp2 2.3.1\n",
            " Found AVX2\n",
            " Found AVX\n",
            " Found FMA\n",
            " Found SSE4.1\n",
            " Found OpenMP 201511\n",
            " Found libarchive 3.4.0 zlib/1.2.11 liblzma/5.2.4 bz2lib/1.0.8 liblz4/1.9.2 libzstd/1.4.4\n",
            " Found libcurl/7.68.0 OpenSSL/1.1.1f zlib/1.2.11 brotli/1.0.7 libidn2/2.2.0 libpsl/0.21.0 (+libidn2/2.2.0) libssh/0.9.3/openssl/zlib nghttp2/1.40.0 librtmp/2.3\n"
          ]
        }
      ]
    },
    {
      "cell_type": "code",
      "source": [
        "!wget https://github.com/tesseract-ocr/tessdata/raw/main/ori.traineddata -O /usr/share/tesseract-ocr/5/tessdata/ori.traineddata\n",
        "!wget https://github.com/tesseract-ocr/tessdata/raw/main/eng.traineddata -O /usr/share/tesseract-ocr/5/tessdata/eng.traineddata\n",
        "!dir /usr/share/tesseract-ocr/5/tessdata"
      ],
      "metadata": {
        "colab": {
          "base_uri": "https://localhost:8080/"
        },
        "id": "_g9WKVSMaJG-",
        "outputId": "feabada5-c2d4-40cc-b7fd-e78708172588"
      },
      "execution_count": null,
      "outputs": [
        {
          "output_type": "stream",
          "name": "stdout",
          "text": [
            "--2023-06-02 08:22:44--  https://github.com/tesseract-ocr/tessdata/raw/main/ori.traineddata\n",
            "Resolving github.com (github.com)... 140.82.114.3\n",
            "Connecting to github.com (github.com)|140.82.114.3|:443... connected.\n",
            "HTTP request sent, awaiting response... 302 Found\n",
            "Location: https://raw.githubusercontent.com/tesseract-ocr/tessdata/main/ori.traineddata [following]\n",
            "--2023-06-02 08:22:44--  https://raw.githubusercontent.com/tesseract-ocr/tessdata/main/ori.traineddata\n",
            "Resolving raw.githubusercontent.com (raw.githubusercontent.com)... 185.199.108.133, 185.199.109.133, 185.199.110.133, ...\n",
            "Connecting to raw.githubusercontent.com (raw.githubusercontent.com)|185.199.108.133|:443... connected.\n",
            "HTTP request sent, awaiting response... 200 OK\n",
            "Length: 1480096 (1.4M) [application/octet-stream]\n",
            "Saving to: ‘/usr/share/tesseract-ocr/5/tessdata/ori.traineddata’\n",
            "\n",
            "/usr/share/tesserac 100%[===================>]   1.41M  --.-KB/s    in 0.05s   \n",
            "\n",
            "2023-06-02 08:22:45 (25.8 MB/s) - ‘/usr/share/tesseract-ocr/5/tessdata/ori.traineddata’ saved [1480096/1480096]\n",
            "\n",
            "--2023-06-02 08:22:45--  https://github.com/tesseract-ocr/tessdata/raw/main/eng.traineddata\n",
            "Resolving github.com (github.com)... 140.82.113.3\n",
            "Connecting to github.com (github.com)|140.82.113.3|:443... connected.\n",
            "HTTP request sent, awaiting response... 302 Found\n",
            "Location: https://raw.githubusercontent.com/tesseract-ocr/tessdata/main/eng.traineddata [following]\n",
            "--2023-06-02 08:22:45--  https://raw.githubusercontent.com/tesseract-ocr/tessdata/main/eng.traineddata\n",
            "Resolving raw.githubusercontent.com (raw.githubusercontent.com)... 185.199.108.133, 185.199.109.133, 185.199.110.133, ...\n",
            "Connecting to raw.githubusercontent.com (raw.githubusercontent.com)|185.199.108.133|:443... connected.\n",
            "HTTP request sent, awaiting response... 200 OK\n",
            "Length: 23466654 (22M) [application/octet-stream]\n",
            "Saving to: ‘/usr/share/tesseract-ocr/5/tessdata/eng.traineddata’\n",
            "\n",
            "/usr/share/tesserac 100%[===================>]  22.38M   113MB/s    in 0.2s    \n",
            "\n",
            "2023-06-02 08:22:45 (113 MB/s) - ‘/usr/share/tesseract-ocr/5/tessdata/eng.traineddata’ saved [23466654/23466654]\n",
            "\n",
            "configs\t\t ori.traineddata  pdf.ttf\n",
            "eng.traineddata  osd.traineddata  tessconfigs\n"
          ]
        }
      ]
    },
    {
      "cell_type": "code",
      "source": [
        "!tesseract --list-langs"
      ],
      "metadata": {
        "colab": {
          "base_uri": "https://localhost:8080/"
        },
        "id": "OIro6pnOZ5dR",
        "outputId": "5f455145-73b5-44bb-ec27-65d0ca9dd0be"
      },
      "execution_count": null,
      "outputs": [
        {
          "output_type": "stream",
          "name": "stdout",
          "text": [
            "List of available languages in \"/usr/share/tesseract-ocr/5/tessdata/\" (3):\n",
            "eng\n",
            "ori\n",
            "osd\n"
          ]
        }
      ]
    },
    {
      "cell_type": "code",
      "source": [
        "!pip install pytesseract"
      ],
      "metadata": {
        "colab": {
          "base_uri": "https://localhost:8080/"
        },
        "id": "ckdrza0HceE9",
        "outputId": "be8b713b-7564-4c99-99b1-afb46e8b3b99"
      },
      "execution_count": null,
      "outputs": [
        {
          "output_type": "stream",
          "name": "stdout",
          "text": [
            "Looking in indexes: https://pypi.org/simple, https://us-python.pkg.dev/colab-wheels/public/simple/\n",
            "Collecting pytesseract\n",
            "  Downloading pytesseract-0.3.10-py3-none-any.whl (14 kB)\n",
            "Requirement already satisfied: packaging>=21.3 in /usr/local/lib/python3.10/dist-packages (from pytesseract) (23.1)\n",
            "Requirement already satisfied: Pillow>=8.0.0 in /usr/local/lib/python3.10/dist-packages (from pytesseract) (8.4.0)\n",
            "Installing collected packages: pytesseract\n",
            "Successfully installed pytesseract-0.3.10\n"
          ]
        }
      ]
    },
    {
      "cell_type": "markdown",
      "source": [
        "## 3. PyPDF2 PDF Reader setup"
      ],
      "metadata": {
        "id": "8pHiJJybdCE0"
      }
    },
    {
      "cell_type": "code",
      "source": [
        "!pip install PyPDF2"
      ],
      "metadata": {
        "colab": {
          "base_uri": "https://localhost:8080/"
        },
        "id": "GNEOfpnxeTiG",
        "outputId": "87a9a171-e933-4540-ec9e-028854c9108b"
      },
      "execution_count": null,
      "outputs": [
        {
          "output_type": "stream",
          "name": "stdout",
          "text": [
            "Looking in indexes: https://pypi.org/simple, https://us-python.pkg.dev/colab-wheels/public/simple/\n",
            "Collecting PyPDF2\n",
            "  Downloading pypdf2-3.0.1-py3-none-any.whl (232 kB)\n",
            "\u001b[2K     \u001b[90m━━━━━━━━━━━━━━━━━━━━━━━━━━━━━━━━━━━━━━━\u001b[0m \u001b[32m232.6/232.6 kB\u001b[0m \u001b[31m5.4 MB/s\u001b[0m eta \u001b[36m0:00:00\u001b[0m\n",
            "\u001b[?25hInstalling collected packages: PyPDF2\n",
            "Successfully installed PyPDF2-3.0.1\n"
          ]
        }
      ]
    },
    {
      "cell_type": "markdown",
      "source": [
        "## 4. OpenAI API setup !IMPORTANT!\n",
        "\n",
        "Get your OpenAI secret key from https://platform.openai.com/account/api-keys and assign it to the `OPENAI_API_KEY` variable "
      ],
      "metadata": {
        "id": "S3CH4MHuf-yn"
      }
    },
    {
      "cell_type": "code",
      "source": [
        "OPENAI_API_KEY = \"...\""
      ],
      "metadata": {
        "id": "kvRu860RBXKp"
      },
      "execution_count": null,
      "outputs": []
    },
    {
      "cell_type": "code",
      "source": [
        "!pip install openai"
      ],
      "metadata": {
        "colab": {
          "base_uri": "https://localhost:8080/"
        },
        "id": "t6FjQqtbgVjZ",
        "outputId": "4f427c02-13f1-4fc6-a947-4d69facb3e2e"
      },
      "execution_count": null,
      "outputs": [
        {
          "output_type": "stream",
          "name": "stdout",
          "text": [
            "Looking in indexes: https://pypi.org/simple, https://us-python.pkg.dev/colab-wheels/public/simple/\n",
            "Collecting openai\n",
            "  Downloading openai-0.27.7-py3-none-any.whl (71 kB)\n",
            "\u001b[2K     \u001b[90m━━━━━━━━━━━━━━━━━━━━━━━━━━━━━━━━━━━━━━━━\u001b[0m \u001b[32m72.0/72.0 kB\u001b[0m \u001b[31m3.0 MB/s\u001b[0m eta \u001b[36m0:00:00\u001b[0m\n",
            "\u001b[?25hRequirement already satisfied: requests>=2.20 in /usr/local/lib/python3.10/dist-packages (from openai) (2.27.1)\n",
            "Requirement already satisfied: tqdm in /usr/local/lib/python3.10/dist-packages (from openai) (4.65.0)\n",
            "Collecting aiohttp (from openai)\n",
            "  Downloading aiohttp-3.8.4-cp310-cp310-manylinux_2_17_x86_64.manylinux2014_x86_64.whl (1.0 MB)\n",
            "\u001b[2K     \u001b[90m━━━━━━━━━━━━━━━━━━━━━━━━━━━━━━━━━━━━━━━━\u001b[0m \u001b[32m1.0/1.0 MB\u001b[0m \u001b[31m14.4 MB/s\u001b[0m eta \u001b[36m0:00:00\u001b[0m\n",
            "\u001b[?25hRequirement already satisfied: urllib3<1.27,>=1.21.1 in /usr/local/lib/python3.10/dist-packages (from requests>=2.20->openai) (1.26.15)\n",
            "Requirement already satisfied: certifi>=2017.4.17 in /usr/local/lib/python3.10/dist-packages (from requests>=2.20->openai) (2022.12.7)\n",
            "Requirement already satisfied: charset-normalizer~=2.0.0 in /usr/local/lib/python3.10/dist-packages (from requests>=2.20->openai) (2.0.12)\n",
            "Requirement already satisfied: idna<4,>=2.5 in /usr/local/lib/python3.10/dist-packages (from requests>=2.20->openai) (3.4)\n",
            "Requirement already satisfied: attrs>=17.3.0 in /usr/local/lib/python3.10/dist-packages (from aiohttp->openai) (23.1.0)\n",
            "Collecting multidict<7.0,>=4.5 (from aiohttp->openai)\n",
            "  Downloading multidict-6.0.4-cp310-cp310-manylinux_2_17_x86_64.manylinux2014_x86_64.whl (114 kB)\n",
            "\u001b[2K     \u001b[90m━━━━━━━━━━━━━━━━━━━━━━━━━━━━━━━━━━━━━━\u001b[0m \u001b[32m114.5/114.5 kB\u001b[0m \u001b[31m10.7 MB/s\u001b[0m eta \u001b[36m0:00:00\u001b[0m\n",
            "\u001b[?25hCollecting async-timeout<5.0,>=4.0.0a3 (from aiohttp->openai)\n",
            "  Downloading async_timeout-4.0.2-py3-none-any.whl (5.8 kB)\n",
            "Collecting yarl<2.0,>=1.0 (from aiohttp->openai)\n",
            "  Downloading yarl-1.9.2-cp310-cp310-manylinux_2_17_x86_64.manylinux2014_x86_64.whl (268 kB)\n",
            "\u001b[2K     \u001b[90m━━━━━━━━━━━━━━━━━━━━━━━━━━━━━━━━━━━━━━\u001b[0m \u001b[32m268.8/268.8 kB\u001b[0m \u001b[31m21.8 MB/s\u001b[0m eta \u001b[36m0:00:00\u001b[0m\n",
            "\u001b[?25hCollecting frozenlist>=1.1.1 (from aiohttp->openai)\n",
            "  Downloading frozenlist-1.3.3-cp310-cp310-manylinux_2_5_x86_64.manylinux1_x86_64.manylinux_2_17_x86_64.manylinux2014_x86_64.whl (149 kB)\n",
            "\u001b[2K     \u001b[90m━━━━━━━━━━━━━━━━━━━━━━━━━━━━━━━━━━━━━━\u001b[0m \u001b[32m149.6/149.6 kB\u001b[0m \u001b[31m14.2 MB/s\u001b[0m eta \u001b[36m0:00:00\u001b[0m\n",
            "\u001b[?25hCollecting aiosignal>=1.1.2 (from aiohttp->openai)\n",
            "  Downloading aiosignal-1.3.1-py3-none-any.whl (7.6 kB)\n",
            "Installing collected packages: multidict, frozenlist, async-timeout, yarl, aiosignal, aiohttp, openai\n",
            "Successfully installed aiohttp-3.8.4 aiosignal-1.3.1 async-timeout-4.0.2 frozenlist-1.3.3 multidict-6.0.4 openai-0.27.7 yarl-1.9.2\n"
          ]
        }
      ]
    },
    {
      "cell_type": "markdown",
      "source": [
        "# Parsing Odia Dictionary"
      ],
      "metadata": {
        "id": "7U0ZxqwxVqOS"
      }
    },
    {
      "cell_type": "markdown",
      "source": [
        "## 1. Converting PDF pages to images for OCR"
      ],
      "metadata": {
        "id": "zIRRrQ6bVvqj"
      }
    },
    {
      "cell_type": "code",
      "source": [
        "try:\n",
        "  os.mkdir('pages')\n",
        "except:\n",
        "  pass"
      ],
      "metadata": {
        "id": "sTL7FwDh2j-V"
      },
      "execution_count": null,
      "outputs": []
    },
    {
      "cell_type": "code",
      "source": [
        "import os\n",
        "from pdf2image import convert_from_path\n",
        "from tqdm import tqdm\n",
        "\n",
        "first_page = 7\n",
        "last_page = 10\n",
        "pages = convert_from_path('Odia.Dictionary.pdf', \n",
        "                          300,  # can reduce to 100 dpi for testing to speed up. requires changing the crop box dimensions in the next section: \"## 2. Preprocessing - Cropping images into columns\"\n",
        "                          first_page=first_page,\n",
        "                          last_page=last_page,\n",
        "                          ) \n",
        "for i, page in enumerate(tqdm(pages)):\n",
        "    page.save(f'pages/page{first_page+i}.png', 'PNG')"
      ],
      "metadata": {
        "colab": {
          "base_uri": "https://localhost:8080/"
        },
        "id": "1BbfkJTJV4Dv",
        "outputId": "ffcb37ad-c371-4c0c-e999-b8a0cb043e2b"
      },
      "execution_count": null,
      "outputs": [
        {
          "output_type": "stream",
          "name": "stderr",
          "text": [
            "100%|██████████| 4/4 [00:06<00:00,  1.54s/it]\n"
          ]
        }
      ]
    },
    {
      "cell_type": "code",
      "source": [
        "import matplotlib.pyplot as plt\n",
        "from PIL import Image\n",
        "\n",
        "plt.imshow(Image.open(f'pages/page10.png'))\n",
        "plt.show()"
      ],
      "metadata": {
        "colab": {
          "base_uri": "https://localhost:8080/",
          "height": 435
        },
        "id": "cVB7b8dZ5rm6",
        "outputId": "6868500c-9a04-481a-d223-0c80b5d723a2"
      },
      "execution_count": null,
      "outputs": [
        {
          "output_type": "display_data",
          "data": {
            "text/plain": [
              "<Figure size 640x480 with 1 Axes>"
            ],
            "image/png": "[encoded data removed]"
          },
          "metadata": {}
        }
      ]
    },
    {
      "cell_type": "markdown",
      "source": [
        "## 2. Preprocessing - Cropping images into columns"
      ],
      "metadata": {
        "id": "Vkwv1BMd6pUh"
      }
    },
    {
      "cell_type": "code",
      "source": [
        "try:\n",
        "  os.mkdir('pages_processed')\n",
        "except:\n",
        "  pass"
      ],
      "metadata": {
        "id": "oyLqt_Pr22uc"
      },
      "execution_count": null,
      "outputs": []
    },
    {
      "cell_type": "code",
      "source": [
        "from PIL import Image\n",
        "import os\n",
        "from tqdm import tqdm\n",
        "\n",
        "for i, img_path in enumerate(tqdm(os.listdir('pages'))):\n",
        "    if int(img_path.split('.')[0][4:]) in range(6, 88):\n",
        "        if img_path.split('.')[-1] == 'png':\n",
        "            img = Image.open(f'pages/{img_path}')\n",
        "            imgs = [\n",
        "                img.crop(( 130,  250,  830,  3050)),\n",
        "                img.crop(( 855,  250, 1569,  3050)),\n",
        "                img.crop((1592,  250, 2336,  3050)),\n",
        "            ]\n",
        "            for i, im in enumerate(imgs):\n",
        "                path = os.path.join('pages_processed', img_path.split(\".\")[0] + f\"_{i}.\" + img_path.split(\".\")[-1])\n",
        "                # print(path)\n",
        "                im.save(path)"
      ],
      "metadata": {
        "colab": {
          "base_uri": "https://localhost:8080/"
        },
        "id": "_jGH2dQo5m88",
        "outputId": "0c817d98-0335-4157-8cb3-0fe1cc6331c3"
      },
      "execution_count": null,
      "outputs": [
        {
          "output_type": "stream",
          "name": "stderr",
          "text": [
            "100%|██████████| 4/4 [00:01<00:00,  2.18it/s]\n"
          ]
        }
      ]
    },
    {
      "cell_type": "code",
      "source": [
        "plt.imshow(Image.open(f'pages_processed/page10_0.png'))"
      ],
      "metadata": {
        "colab": {
          "base_uri": "https://localhost:8080/",
          "height": 452
        },
        "id": "HiVJkjyW6E9N",
        "outputId": "ba2cbbbc-d6eb-48f4-da66-ea6fb89349d1"
      },
      "execution_count": null,
      "outputs": [
        {
          "output_type": "execute_result",
          "data": {
            "text/plain": [
              "<matplotlib.image.AxesImage at 0x7f9b981ce7d0>"
            ]
          },
          "metadata": {},
          "execution_count": 24
        },
        {
          "output_type": "display_data",
          "data": {
            "text/plain": [
              "<Figure size 640x480 with 1 Axes>"
            ],
            "image/png": "[encoded data removed]"
          },
          "metadata": {}
        }
      ]
    },
    {
      "cell_type": "markdown",
      "source": [
        "## 3. Generating intermediate PDFs from preprocessed images using Tesseract OCR\n",
        "**NOTE:** Different PSM modes can be used to affect the way Tesseract parses the document image. \\\n",
        "Refer to this blog post explaining [all OCR options](https://muthu.co/all-tesseract-ocr-options/)"
      ],
      "metadata": {
        "id": "C_989IsR66Zj"
      }
    },
    {
      "cell_type": "code",
      "source": [
        "try:\n",
        "  os.mkdir('parsed_pdfs')\n",
        "except:\n",
        "  pass"
      ],
      "metadata": {
        "id": "C3_fdXN03nVS"
      },
      "execution_count": null,
      "outputs": []
    },
    {
      "cell_type": "code",
      "source": [
        "import pytesseract\n",
        "from tqdm import tqdm\n",
        "import os\n",
        "\n",
        "\n",
        "# # remove this line on linux.\n",
        "# pytesseract.pytesseract.tesseract_cmd = f\"C:/Program Files/Tesseract-OCR/tesseract.exe\"\n",
        "\n",
        "# different psm mode can change the behaviour of parsing.\n",
        "# refer to documentation for further details.\n",
        "psm_mode = 3\n",
        "config = f'--psm {psm_mode}'\n",
        "source_pdf_folder = 'pages_processed'\n",
        "target_folder = 'parsed_pdfs'\n",
        "lang='ori+eng'\n",
        "\n",
        "for i, image_path in enumerate(tqdm(os.listdir(source_pdf_folder))):\n",
        "    if int(image_path.split('.')[0].split('_')[0][4:]) in range(6, 88):      # only parsing pages 6 - 87, inclusive\n",
        "        source_image_path = os.path.join(source_pdf_folder, image_path)       # for example: source_pdf_folder/page6_0.png\n",
        "        target_image_path = os.path.join(target_folder, f'{image_path}.pdf')  # for example: target_folder/page6_0.png.pdf\n",
        "\n",
        "        with open(target_image_path, 'w+b') as f:\n",
        "            f.write(pytesseract.image_to_pdf_or_hocr(source_image_path, \n",
        "                                                    lang=lang, \n",
        "                                                    extension='pdf', \n",
        "                                                    config=config))"
      ],
      "metadata": {
        "colab": {
          "base_uri": "https://localhost:8080/"
        },
        "id": "UnEbPUah65Go",
        "outputId": "6369029b-4b2c-4df6-86d8-91eaf5827896"
      },
      "execution_count": null,
      "outputs": [
        {
          "output_type": "stream",
          "name": "stderr",
          "text": [
            "100%|██████████| 16/16 [01:45<00:00,  6.59s/it]\n"
          ]
        }
      ]
    },
    {
      "cell_type": "markdown",
      "source": [
        "## 4. Copying OCR outputs from generated PDFs"
      ],
      "metadata": {
        "id": "Pa-hfmGT7S8o"
      }
    },
    {
      "cell_type": "code",
      "source": [
        "try:\n",
        "  os.mkdir('parsed_texts')\n",
        "except:\n",
        "  pass"
      ],
      "metadata": {
        "id": "FH9jigbF3kB2"
      },
      "execution_count": null,
      "outputs": []
    },
    {
      "cell_type": "code",
      "source": [
        "# importing required modules\n",
        "from PyPDF2 import PdfReader\n",
        "import os\n",
        "from tqdm import tqdm\n",
        "\n",
        "  \n",
        "# creating a pdf reader object\n",
        "\n",
        "source_folder = f'parsed_pdfs'\n",
        "target_folder = f'parsed_texts'\n",
        "\n",
        "for pdf_path in tqdm(os.listdir(source_folder)):\n",
        "    source_pdf_path = os.path.join(source_folder, pdf_path)\n",
        "    target_text_path = os.path.join(target_folder, pdf_path + '.txt')\n",
        "\n",
        "    reader = PdfReader(source_pdf_path)\n",
        "    page = reader.pages[0]\n",
        "    text = page.extract_text()\n",
        "    \n",
        "    with open(target_text_path, 'w+b') as f:\n",
        "        f.write(bytes(text, encoding='utf-8'))"
      ],
      "metadata": {
        "colab": {
          "base_uri": "https://localhost:8080/"
        },
        "id": "Bgu3tQkR7SzN",
        "outputId": "9b02afd5-7d39-44ba-e5a8-08a41fc39045"
      },
      "execution_count": null,
      "outputs": [
        {
          "output_type": "stream",
          "name": "stderr",
          "text": [
            "100%|██████████| 16/16 [00:03<00:00,  4.46it/s]\n"
          ]
        }
      ]
    },
    {
      "cell_type": "code",
      "source": [
        "!cat parsed_texts/page10_0.png.pdf.txt"
      ],
      "metadata": {
        "colab": {
          "base_uri": "https://localhost:8080/"
        },
        "outputId": "a21c2b22-ae6c-4463-ba45-7fd7fccbfea5",
        "id": "O1HI0z9x9ZII"
      },
      "execution_count": null,
      "outputs": [
        {
          "output_type": "stream",
          "name": "stdout",
          "text": [
            "austerity Noun. ବାୟାମ୍‌ ମାଲାମ୍‌ \n",
            "author Noun. ବଇ ରାସାନୋଣ୍ଡ \n",
            "authority Noun. ଆଦିକାରାମ୍‌ \n",
            "autumn Noun. ପେଦା ମାଣି କାଲାମ୍‌ \n",
            "avoid ୮୮୮. ଏଗ୍‌ ଦେଙ୍କାନାଦ୍‌ \n",
            "babbler Noun. ଏକ୍‌ ଓ ତ୍ରୀୟ୍‌ ନୋନ୍‌ \n",
            "୨୫୬୨  Noun. ପାପାଲ୍‌ \n",
            "bachelor ?/୨///. €@ ମାଣୁଷୁଣ୍ଠ \n",
            "bachelor's buttons Noun. ମାଡ଼ା \n",
            "ମାଲି ପୁଙ୍ଗାର୍‌ \n",
            "back biting Noun. ସୁକ୍‌ ଲି ତୁଙ୍ଗିଭର୍‌ \n",
            "back bitter Noun. ପେର୍ଲାନାଦ୍‌ \n",
            "back of the body \n",
            "Noun. ଜେବା,ମୁର୍ସୁଲ୍‌ \n",
            "backbite ` ‰/ ଆୟ୍‌ କ୍‌ ତୀରିୟ୍‌ \n",
            "ପେର୍ଲାନାଦ୍‌ \n",
            "backward Adjective. ପେର୍କେ \n",
            "backyard of house Noun. ଲୋନ୍‌ \n",
            "ପାଞ୍ଚ୍‌ 69K \n",
            "bacteria ,virus Noun. କାଣ୍ଡ @& \n",
            "ତପ୍‌ ପିଲ୍‌ ପୂଡ଼ିକ୍‌ \n",
            "bad idea Adjective. Q19 ପୁ ଆଲ୍‌ ପୁ \n",
            "bad luck Adjective. କାରାପ୍‌ \n",
            "ଆଡୁଷ୍ଟାମ୍‌ \n",
            "bad name Noun. କାରାବ୍‌ ପେଦେର୍‌ \n",
            "bad smell Noun. କାରାବ୍‌ ଗାବ୍‌ \n",
            "bad tempered Adjective. QIS \n",
            "କୋପାମ୍‌ \n",
            "bad word Noun. ସେଡା ମାଟା ପୀନ୍ଦ \n",
            "ପାର୍‌ ନ୍ଦୁ ଲ୍‌ ଗଟି \n",
            "bad,vice Noun ପୀନ୍ଦ, କାରାପ୍‌"
          ]
        }
      ]
    },
    {
      "cell_type": "markdown",
      "source": [
        "## 5. Restructuring raw OCR outputs using GPT API"
      ],
      "metadata": {
        "id": "wZlH5C1J7x8M"
      }
    },
    {
      "cell_type": "code",
      "source": [
        "try:\n",
        "  os.mkdir('GPT_outputs')\n",
        "except:\n",
        "  pass"
      ],
      "metadata": {
        "id": "4RpBlWGNCnR0"
      },
      "execution_count": null,
      "outputs": []
    },
    {
      "cell_type": "code",
      "source": [
        "import openai\n",
        "import os\n",
        "from tqdm import tqdm\n",
        "import html\n",
        "from time import sleep\n",
        "\n",
        "\n",
        "\n",
        "source_folder = f'parsed_texts'\n",
        "output_destination = f'GPT_outputs'\n",
        "\n",
        "for text_path in tqdm(os.listdir(f'{source_folder}')):\n",
        "    input_path = os.path.join(source_folder, text_path)\n",
        "    output_path_check = text_path\n",
        "    output_path = os.path.join(output_destination, text_path)\n",
        "    try:\n",
        "        if output_path_check not in os.listdir(output_destination):\n",
        "            # text_path = 'page6_0.png.pdf.txt'\n",
        "            with open(input_path, 'rb') as input_text:\n",
        "                input_text_decoded = html.unescape(input_text.read().decode('utf8'))\n",
        "            \n",
        "            \n",
        "            openai.api_key = OPENAI_API_KEYS[0]\n",
        "            OPENAI_API_KEYS = OPENAI_API_KEYS[::-1]\n",
        "            completion = openai.ChatCompletion.create(\n",
        "                model = \"gpt-3.5-turbo\",\n",
        "                temperature = 0.8,\n",
        "                max_tokens = 4000,\n",
        "                messages = [\n",
        "                    {\n",
        "                        \"role\": \"system\", \n",
        "                        \"content\": \"You will help me parse raw noisy OCR output into neat tables. The output should contain the proper Odia characters instead of escape sequences.\"\n",
        "                    },\n",
        "                    {\n",
        "                        \"role\": \"user\", \n",
        "                        \"content\": \"\"\"The table should have three columns:\n",
        "1. Word in English\n",
        "2. Part of speech it belongs to\n",
        "3. Odiya Translation of the word\n",
        "\n",
        "Here is the raw data. Format it into the table. For example, here are the first two rows of the table:\n",
        "\n",
        "a | Adjective&Article   | ଅରୋଟ୍‌\n",
        "accordingly |\tAdverb  |  ଆଦିଙ୍କ୍‌ ଲେକେ\"\"\"\n",
        "                    },\n",
        "                    {\n",
        "                        \"role\": \"assistant\",\n",
        "                        \"content\": \"Sure! Please provide me with the raw data, and I'll format it into a three-column table for you.\"\n",
        "                    },\n",
        "                    {\n",
        "                        \"role\": \"user\",\n",
        "                        \"content\": input_text_decoded\n",
        "                    }\n",
        "                ]\n",
        "            )\n",
        "\n",
        "            gpt_text = html.unescape(completion.choices[0].message['content'])\n",
        "            with open(f'{output_path}', 'w+b') as f:\n",
        "                f.write(gpt_text.encode())\n",
        "            # sleep(5)\n",
        "            # break\n",
        "    except Exception as e:\n",
        "        print(f'error occured during creation of {output_path}:')\n",
        "        print(e)\n",
        "        continue"
      ],
      "metadata": {
        "id": "et3Ame1p70CO",
        "colab": {
          "base_uri": "https://localhost:8080/"
        },
        "outputId": "b1461999-1a89-4723-d84b-e6572566257c"
      },
      "execution_count": null,
      "outputs": [
        {
          "output_type": "stream",
          "name": "stderr",
          "text": [
            "  6%|▋         | 1/16 [00:00<00:05,  2.54it/s]"
          ]
        },
        {
          "output_type": "stream",
          "name": "stdout",
          "text": [
            "error occured during creation of GPT_outputs/page9_1.png.pdf.txt:\n",
            "This model's maximum context length is 4097 tokens. However, you requested 5247 tokens (1247 in the messages, 4000 in the completion). Please reduce the length of the messages or completion.\n"
          ]
        },
        {
          "output_type": "stream",
          "name": "stderr",
          "text": [
            " 19%|█▉        | 3/16 [00:00<00:03,  3.94it/s]"
          ]
        },
        {
          "output_type": "stream",
          "name": "stdout",
          "text": [
            "error occured during creation of GPT_outputs/page10_1.png.pdf.txt:\n",
            "This model's maximum context length is 4097 tokens. However, you requested 5200 tokens (1200 in the messages, 4000 in the completion). Please reduce the length of the messages or completion.\n",
            "error occured during creation of GPT_outputs/page7_2.png.pdf.txt:\n",
            "This model's maximum context length is 4097 tokens. However, you requested 5354 tokens (1354 in the messages, 4000 in the completion). Please reduce the length of the messages or completion.\n"
          ]
        },
        {
          "output_type": "stream",
          "name": "stderr",
          "text": [
            "\r 31%|███▏      | 5/16 [00:00<00:01,  6.79it/s]"
          ]
        },
        {
          "output_type": "stream",
          "name": "stdout",
          "text": [
            "error occured during creation of GPT_outputs/page7_0.png.pdf.txt:\n",
            "Rate limit reached for default-gpt-3.5-turbo in organization org-aSd4uWv9lTMeaTHfzjK60HdR on requests per min. Limit: 3 / min. Please try again in 20s. Contact us through our help center at help.openai.com if you continue to have issues. Please add a payment method to your account to increase your rate limit. Visit https://platform.openai.com/account/billing to add a payment method.\n",
            "error occured during creation of GPT_outputs/page8_0.png.pdf.txt:\n",
            "Rate limit reached for default-gpt-3.5-turbo in organization org-aSd4uWv9lTMeaTHfzjK60HdR on requests per min. Limit: 3 / min. Please try again in 20s. Contact us through our help center at help.openai.com if you continue to have issues. Please add a payment method to your account to increase your rate limit. Visit https://platform.openai.com/account/billing to add a payment method.\n",
            "error occured during creation of GPT_outputs/page10_2.png.pdf.txt:\n",
            "Rate limit reached for default-gpt-3.5-turbo in organization org-aSd4uWv9lTMeaTHfzjK60HdR on requests per min. Limit: 3 / min. Please try again in 20s. Contact us through our help center at help.openai.com if you continue to have issues. Please add a payment method to your account to increase your rate limit. Visit https://platform.openai.com/account/billing to add a payment method.\n"
          ]
        },
        {
          "output_type": "stream",
          "name": "stderr",
          "text": [
            " 50%|█████     | 8/16 [00:01<00:01,  7.80it/s]"
          ]
        },
        {
          "output_type": "stream",
          "name": "stdout",
          "text": [
            "error occured during creation of GPT_outputs/page9_2.png.pdf.txt:\n",
            "Rate limit reached for default-gpt-3.5-turbo in organization org-aSd4uWv9lTMeaTHfzjK60HdR on requests per min. Limit: 3 / min. Please try again in 20s. Contact us through our help center at help.openai.com if you continue to have issues. Please add a payment method to your account to increase your rate limit. Visit https://platform.openai.com/account/billing to add a payment method.\n",
            "error occured during creation of GPT_outputs/page7_1.png.pdf.txt:\n",
            "Rate limit reached for default-gpt-3.5-turbo in organization org-aSd4uWv9lTMeaTHfzjK60HdR on requests per min. Limit: 3 / min. Please try again in 20s. Contact us through our help center at help.openai.com if you continue to have issues. Please add a payment method to your account to increase your rate limit. Visit https://platform.openai.com/account/billing to add a payment method.\n"
          ]
        },
        {
          "output_type": "stream",
          "name": "stderr",
          "text": [
            " 69%|██████▉   | 11/16 [00:01<00:00,  9.51it/s]"
          ]
        },
        {
          "output_type": "stream",
          "name": "stdout",
          "text": [
            "error occured during creation of GPT_outputs/page9_{i}.png.pdf.txt:\n",
            "Rate limit reached for default-gpt-3.5-turbo in organization org-aSd4uWv9lTMeaTHfzjK60HdR on requests per min. Limit: 3 / min. Please try again in 20s. Contact us through our help center at help.openai.com if you continue to have issues. Please add a payment method to your account to increase your rate limit. Visit https://platform.openai.com/account/billing to add a payment method.\n",
            "error occured during creation of GPT_outputs/page10_{i}.png.pdf.txt:\n",
            "Rate limit reached for default-gpt-3.5-turbo in organization org-aSd4uWv9lTMeaTHfzjK60HdR on requests per min. Limit: 3 / min. Please try again in 20s. Contact us through our help center at help.openai.com if you continue to have issues. Please add a payment method to your account to increase your rate limit. Visit https://platform.openai.com/account/billing to add a payment method.\n",
            "error occured during creation of GPT_outputs/page8_{i}.png.pdf.txt:\n",
            "Rate limit reached for default-gpt-3.5-turbo in organization org-aSd4uWv9lTMeaTHfzjK60HdR on requests per min. Limit: 3 / min. Please try again in 20s. Contact us through our help center at help.openai.com if you continue to have issues. Please add a payment method to your account to increase your rate limit. Visit https://platform.openai.com/account/billing to add a payment method.\n",
            "error occured during creation of GPT_outputs/page10_0.png.pdf.txt:\n",
            "Rate limit reached for default-gpt-3.5-turbo in organization org-aSd4uWv9lTMeaTHfzjK60HdR on requests per min. Limit: 3 / min. Please try again in 20s. Contact us through our help center at help.openai.com if you continue to have issues. Please add a payment method to your account to increase your rate limit. Visit https://platform.openai.com/account/billing to add a payment method.\n"
          ]
        },
        {
          "output_type": "stream",
          "name": "stderr",
          "text": [
            "100%|██████████| 16/16 [00:01<00:00,  8.40it/s]"
          ]
        },
        {
          "output_type": "stream",
          "name": "stdout",
          "text": [
            "error occured during creation of GPT_outputs/page8_2.png.pdf.txt:\n",
            "Rate limit reached for default-gpt-3.5-turbo in organization org-aSd4uWv9lTMeaTHfzjK60HdR on requests per min. Limit: 3 / min. Please try again in 20s. Contact us through our help center at help.openai.com if you continue to have issues. Please add a payment method to your account to increase your rate limit. Visit https://platform.openai.com/account/billing to add a payment method.\n",
            "error occured during creation of GPT_outputs/page8_1.png.pdf.txt:\n",
            "Rate limit reached for default-gpt-3.5-turbo in organization org-aSd4uWv9lTMeaTHfzjK60HdR on requests per min. Limit: 3 / min. Please try again in 20s. Contact us through our help center at help.openai.com if you continue to have issues. Please add a payment method to your account to increase your rate limit. Visit https://platform.openai.com/account/billing to add a payment method.\n",
            "error occured during creation of GPT_outputs/page9_0.png.pdf.txt:\n",
            "Rate limit reached for default-gpt-3.5-turbo in organization org-aSd4uWv9lTMeaTHfzjK60HdR on requests per min. Limit: 3 / min. Please try again in 20s. Contact us through our help center at help.openai.com if you continue to have issues. Please add a payment method to your account to increase your rate limit. Visit https://platform.openai.com/account/billing to add a payment method.\n",
            "error occured during creation of GPT_outputs/page7_{i}.png.pdf.txt:\n",
            "Rate limit reached for default-gpt-3.5-turbo in organization org-aSd4uWv9lTMeaTHfzjK60HdR on requests per min. Limit: 3 / min. Please try again in 20s. Contact us through our help center at help.openai.com if you continue to have issues. Please add a payment method to your account to increase your rate limit. Visit https://platform.openai.com/account/billing to add a payment method.\n"
          ]
        },
        {
          "output_type": "stream",
          "name": "stderr",
          "text": [
            "\n"
          ]
        }
      ]
    },
    {
      "cell_type": "markdown",
      "source": [
        "## 6. Removing unwanted text at the top of GPT outputs\n",
        "Every GPT output has unwanted text right before the tabulated data that goes something like `\"Sure! Here is the formatted three-column table based on the provided raw data:\"`. This section removes that part by deleting the lines at the top of the GPT output text files that do not start with the table delimiter `\"|\"`."
      ],
      "metadata": {
        "id": "DkzSm5jV_qMS"
      }
    },
    {
      "cell_type": "code",
      "source": [
        "!rm -rf GPT_outputs/.ipynb_checkpoints/"
      ],
      "metadata": {
        "id": "zoQVeto5CV_U"
      },
      "execution_count": null,
      "outputs": []
    },
    {
      "cell_type": "code",
      "source": [
        "import os\n",
        "import html\n",
        "\n",
        "source_dir = f'GPT_outputs'\n",
        "\n",
        "for filepath in os.listdir(source_dir):\n",
        "    filepath = os.path.join(source_dir, filepath)\n",
        "\n",
        "    # edit each GPT output text file to remove the unnecessary text before the table begins.\n",
        "    with open(filepath, 'r+b') as f:\n",
        "        first = '|'\n",
        "        file_string = f.read().decode('utf8')\n",
        "        first_index = file_string.index(first)\n",
        "        print(filepath)\n",
        "        print(file_string[:])\n",
        "        f.seek(0)\n",
        "        f.write(file_string[first_index:].encode())\n",
        "        f.truncate()\n",
        "        # break"
      ],
      "metadata": {
        "colab": {
          "base_uri": "https://localhost:8080/"
        },
        "id": "HO93S9UX_4fE",
        "outputId": "f5f142c3-0e95-4ff4-9b28-7312c95829ae"
      },
      "execution_count": null,
      "outputs": [
        {
          "output_type": "stream",
          "name": "stdout",
          "text": [
            "GPT_outputs/page9_1.png.pdf.txt\n",
            "Here is the formatted table:\n",
            "\n",
            "| Word in English | Part of speech | Odiya Translation |\n",
            "| --- | --- | --- |\n",
            "| Oṭān gonṭām | Noun | ହେମା ମାଟି |\n",
            "| as | Coordinating connective | ବେନ୍‌ ଲେକାନ୍‌ |\n",
            "| a result | Noun | ଆାତ୍‌ @19,81Q କେ |\n",
            "| if | Subordinating connective | ବେଲେ ଆଲେ |\n",
            "| soon as | Correlative connective | କେ ଆଶ୍‌ କେ |\n",
            "| well | Subordinating connective | ମେଣ୍ଡେ ବା as...as Correlative connective | ଆଲେକେ |\n",
            "| ascent | Verb | ତାର୍‌ ରାନାଦ୍‌ |\n",
            "| ash | Noun | ବୁଡ୍‌ @ |\n",
            "| ashamed | Adjective | ବାର୍ତୋନାଦ୍‌ |\n",
            "| ashes | Noun | ଆକାର୍‌ ମାଡ୍ଜି ଆତ୍‌ |\n",
            "| aside | Adverb | ଅଣ୍ଡୋୟ୍‌ ପାକ୍‌ କା |\n",
            "| ask | Verb | କେସ୍‌ ଉଡ଼ାନାଦ୍‌ |\n",
            "| ask about a person | Verb | QIS ତୁଙ୍ଗା |\n",
            "| ask for | Verb | ମାନ୍ଦ୍‌ ଲିସାନାଦ୍‌ |\n",
            "| ass | Noun | ଗାଡ଼୍‌ ଦେ |\n",
            "| assemble | Verb | ଗୁଡାନାଦ୍‌ |\n",
            "| association | Noun | ସର୍ରାତୋର୍କିଙ୍କ୍‌ ସାୟାମ୍‌ ଉଡ଼ାନ୍‌ ସାଙ୍ଗାମ୍‌ |\n",
            "| asthma | Noun | ନେସ୍‌ କାନାଦ୍‌ କାଷ୍ଟାମ୍‌ ଆଦାନାଦ୍‌ |\n",
            "| astonishing | Adjective | @IRIA ପୋୟ୍‌ ଭୋଣ୍ଟ |\n",
            "| astringent | Noun | ଅଗର୍‌ |\n",
            "| astronomer | Noun | ମୁନ୍ରେଟ୍‌ ପେର୍‌ କେଟ୍‌ ମାଟା କେତାନୋର୍‌ |\n",
            "| astronomy | Noun | ପାଞ୍ଚେଗା |\n",
            "GPT_outputs/page8_{i}.png.pdf.txt\n",
            "| Word in English | Part of Speech | Odiya Translation |\n",
            "| --- | --- | --- |\n",
            "| and | Connective. | ଏବଂ |\n",
            "| angel | Noun. | ଦୁତ |\n",
            "| angels | Noun. | ଦେଏ ଦୁତ୍‌, କାବୁର୍‌ ତୋର୍‌ |\n",
            "| angle | Noun. | ମୂଲା |\n",
            "| angry | Verb. | ଆଲ୍ଲାମ୍‌ |\n",
            "| angular gourd | Noun. | କାୟା |\n",
            "| animals | Noun. | ପାସ୍‌ |\n",
            "| ankle | Noun. | କାୟ୍‌, ବଟ ମିଣ୍ଡା |\n",
            "| anklet | Noun. | କାଲ୍‌ ପାଟେ |\n",
            "| annoying | Verb. | ଆଦାନାଦ୍‌ |\n",
            "| anoint | Verb. | ରାସାନାଦ୍‌, ତଚଚାନାଦ୍‌ |\n",
            "| answer | Noun. | ଉଭାରାମ୍‌ |\n",
            "| answering | Verb. | ଜାୱାଁବ୍‌ ଭଦାନାଦ୍‌ |\n",
            "| ant | Noun. | ଅରୁଙ୍କ୍‌ ପେତେ |\n",
            "| ant eater | Noun. | ନୁସ୍‌ ଓସ୍‌ |\n",
            "| ant hill | Noun. | ପୁତ୍‌ |\n",
            "| antichrist | Noun. | ଜୀଶୁନ୍‌ |\n",
            "| anticipate | Noun. | ନାମ୍‌ କାମ୍‌ ମାନ୍ଦାନ୍‌ |\n",
            "| anus | Noun. | ପିରା |\n",
            "| anus bowel | Noun. | ପେଲାନାକ୍‌ ପଡ଼ିୟ୍‌ |\n",
            "| anxiety | Noun. | ସାର୍ଦା |\n",
            "| any how | Adverb. | ବେଲେ ବା |\n",
            "| anyone | Pronoun. | ବେନୁଣ୍ଡ ବା ଅର୍ତୁଣ୍ଠ |\n",
            "| anyway | Adverb. | ବେଲାଆୟ୍‌ |\n",
            "GPT_outputs/page8_0.png.pdf.txt\n",
            "Here's the formatted table for the provided data:\n",
            "\n",
            "| Word in English | Part of speech | Odiya Translation |\n",
            "|---|---|---|\n",
            "| a | Adjective&Article | ଅରୋଟ୍‌ |\n",
            "| accordingly | Adverb | ଆଦିଙ୍କ୍‌ ଲେକେ |\n",
            "| after wards | Adverb | ପାୟା |\n",
            "| afternoon | Noun | ମାଦ୍‌ ନାମ୍‌ |\n",
            "| again | Connective | ମେଣ୍ଡେ |\n",
            "| Adverb | Adverb | ମେଣ୍ଡୋନ୍‌ ଦାମ୍‌ |\n",
            "| against | Adposition | ୱରୋଦାମ୍‌ ତେ |\n",
            "| agreement | Noun | ରାଜି ଆଦାନାଙ୍କ୍‌ ମାଟା |\n",
            "| ague | Noun | ଆଣୁ କାନ୍‌ ଏଡ଼୍‌ @ |\n",
            "| ah | Interjection | ଓ ୟାୟ |\n",
            "| ahead | Adverb | €162 |\n",
            "| aim | Noun | ସୂପ୍‌ ପୟ୍‌ ସି ପାଢ଼ିୟ୍‌ ମାଡ଼ାନାଦ୍‌ |\n",
            "| air force | Noun | ମାବିନ୍‌ ସୟ୍‌ ନୁର୍କ |\n",
            "| 818010 | Interjection | ଆଲେ |\n",
            "| 8100110110 | Adjective | B8 |\n",
            "| alert | Adjective | ଚ଼େତୁର୍‌ |\n",
            "| alive | Noun | ବାତ୍‌ କାନାଦ୍‌ |\n",
            "| all | Adjective | Q6@ ଆନ୍ଦର୍‌ |\n",
            "| all | Noun | ସାରେ |\n",
            "| all | Noun | ସାରେ |\n",
            "| all | Noun | ସାରେ |\n",
            "| all in | Noun | ସାରେ |\n",
            "| all right | Adjective | ସାରି ସାୟା ଆତ୍‌ |\n",
            "| allopathy | Noun | ଡାକ୍‌ ଟାର୍‌ ମାତ୍‌ ତିନ୍ଦାନାଦ୍‌ |\n",
            "| 8110111611 | Noun | ବାଗାମ୍‌ ସାର୍ଦୀଦାନାଦ୍‌ |\n",
            "| almirah | Noun | ଆଲ୍‌ ମିରା,ବିରୋ |\n",
            "| almond | Noun | ବାଦାମ୍‌ ସେଲେଙ୍ଗା |\n",
            "| almost | Adverb | ବେଚୋଟ୍‌ ସୁମାରେ ଆଦାନାଦ୍‌ |\n",
            "| aloe | Noun | ପାଦ୍‌ କୟ୍‌ ୟେ |\n",
            "| aloft | Adverb | ପର୍ରୁ |\n",
            "GPT_outputs/page7_{i}.png.pdf.txt\n",
            "Here is the formatted table:\n",
            "\n",
            "| Word in English  | Part of Speech | Odiya Translation |\n",
            "| --- | --- | --- |\n",
            "| add | Adjective | ଯୋଗ କରନ୍ତୁ |\n",
            "| adjacently | Preposition | ସଂଲଗ୍ନ ଭାବରେ |\n",
            "| administrator | Noun | ପାଡ଼ିୟା |\n",
            "| ସାୟା ଉଡ଼ାନୋଣ୍ଡ | Noun | ସାୟା ଉଡ଼ାନୋଣ୍ଡ |\n",
            "| ଥିଧୀ710 | Verb | ଦିଗନିର୍ଦ୍ଦେଶ ଦେଖାନ୍ତୁ |\n",
            "| adopted 5011 | Noun | ଗୋଦାମୀ ମୋଟାଧୀର ଲୋକ |\n",
            "| adoption | Noun | ଗୋଦାମୀକରଣ |\n",
            "| ଆଦାନାତ୍‌-ଆଦିକାର୍‌,ତାନାୱ | Noun | ଆଦାନାତ୍-ଆଦିକାର୍‌, ତାନାୱ |\n",
            "| ପିଲ୍ଲା ଆଦାନାଙ୍କ୍‌ ପଡ଼୍‌ ପାନାଦ୍‌ | Noun | ପିଲ୍ଲା ଆଦାନା |\n",
            "| adulterous | Adjective | ଅନୈତିକ |\n",
            "| adultery | Noun | ଅନୈତିକତା |\n",
            "| ଜୁଟାମ୍‌ ପାଢ଼ିୟ୍‌ | Noun | ଜୁଟାମ୍‌ ପାଢ଼ିୟ୍‌ |\n",
            "| advantage | Adjective | ଲାଭ |\n",
            "| advice | Noun | ସଲାହ |\n",
            "| Aegle marmelous tree | Noun | କର୍ଣମାଲଙ୍ଗା |\n",
            "| Aecroplane | Noun | ଉଚ୍ଚାକାଶ ଯାନ |\n",
            "| affect | Noun | ପ୍ରଭାବ |\n",
            "| affectionately | Adverb | ପ୍ରେମାତେ |\n",
            "| affliction | Noun | ଶୋକ |\n",
            "| &1'810 | Adjective | &1'810 |\n",
            "| afresh | Adverb | ପୁଣି ଆରମ୍ଭ କରନ୍ତୁ |\n",
            "| after | Adposition | ପରେ |\n",
            "| after a long time | Preposition | ଦୀର୍ଘ ସମୟରେ ପରେ |\n",
            "| after birth | Noun | ଜନ୍ମପାଇଁ ପରେ |\n",
            "GPT_outputs/page9_2.png.pdf.txt\n",
            "Here's your formatted table:\n",
            "\n",
            "| Word in English | Part of Speech | Odiya Translation |\n",
            "| --- | --- | --- |\n",
            "| astutely | Adverb | ଚାଲାକି ତେ |\n",
            "| at | Preposition | ତାଗା |\n",
            "| at 1 am | Noun | ନାର୍କା 2§ ଗାଣ୍ଡା |\n",
            "| at 1 pm | Noun | ପାୟାଲ୍‌ ଅଣ୍ି ଗାଣ୍ଡାଙ୍‌ |\n",
            "| at 10 41? | Noun | ପାଦି ଗାଣ୍ଡାଙ୍କ୍‌ |\n",
            "| at intervals | Adverb | ମାଜେମ୍‌ |\n",
            "| ମାଜେମ୍‌ | | |\n",
            "| at once | Adverb | କେ,ଞେଣ୍ଟେ |\n",
            "| at such an early age | Adverb | ଇଚୋଟ୍‌ ସୁଡ଼ୂଲା |\n",
            "| at the point of | Noun | ଆଦାନ୍‌ ଲେକେ |\n",
            "| atheism | Noun | ବାଗାୱାନ୍‌ ତା ନାମ୍‌ କାମ୍‌ AR ଞ୍ଜୋର୍‌ |\n",
            "| atmosphere | Noun | ସାର୍ରେ ପାକ୍‌ କା ମାନ୍ଦାନ୍‌ ଗାଲ୍‌ |\n",
            "| atone | Verb | ମାଡ଼୍‌ ତା ପାପ୍‌ ପାମ୍‌ ସେଙ୍ଗେ ଦୁକ୍‌ କାମ୍‌ ଆଦାନାଦ୍‌,ଉଶ୍‌ ରାନାଦ୍‌ |\n",
            "| attachment | Noun | ପ୍ରେମା |\n",
            "| attack | Verb | 39 ବାର୍ଦାନାଦ୍‌ |\n",
            "| attentively | Adverb | ମକ୍‌ କାରିଞି |\n",
            "| attract | Verb | ମାନ୍‌ @1QUQ |\n",
            "| attraction | Noun | କୋରାନାଦ୍‌ କୋରାନାଦ୍‌ |\n",
            "| attractive | Adjective | ଇଷଟାମ୍‌ ତେ କୋରାନାଦ୍‌ |\n",
            "| audacity | Noun | ଗାଟ୍‌ ଟି QRIS |\n",
            "| audible breath | Adjective | ପସ୍‌ ପସ୍‌ 62309 |\n",
            "| audience | Noun | @@ 69168 608 ଉଡ଼ାନୋର୍‌ 9 |\n",
            "| aunt | Noun | ପୋୟେ |\n",
            "| auspicious | Adjective | ମେଲ୍‌ ତା |\n",
            "GPT_outputs/page7_2.png.pdf.txt\n",
            "Here's your formatted table:\n",
            "\n",
            "| Word in English | Part of speech | Odiya Translation |\n",
            "|-----------------|----------------|------------------|\n",
            "| add             | Adjective      | କାଲ୍‌ ପାନାଦ୍‌ |\n",
            "| adjacently      | Preposition    | ମୋୟି ମିନ୍ଦେ |\n",
            "| administrator   | Noun           | ପାଡ଼ିୟ୍‌ ସାରେ |\n",
            "| ସାୟା ଉଡ଼ାନୋଣ୍ଡ | Noun           | ସାୟା ଉଡ଼ାନୋଣ୍ଡ |\n",
            "| ଥିଧୀ710       | Verb           | ନାମ୍‌ କାମ୍‌ ଓାଟି ଏତାନାଦ୍‌ |\n",
            "| adopted 5011    | Noun           | ପର୍ପ୍‌ ତା ମାର୍‌ |\n",
            "| adoption        | Noun           | ମାର୍‌ ମାୟାଡ଼୍‌ ଶ୍‌ କ୍‌ ଆଦାନାତ୍‌-ଆଦିକାର୍‌,ତାନାୱ ପିଲ୍ଲା ଆଦାନାଙ୍କ୍‌ ପଡ଼୍‌ ପାନାଦ୍‌ |\n",
            "| adulterous      | Adjective      | ଲାଞ୍ଜ୍‌ ତାନାମ୍‌ |\n",
            "| adultery        | Noun           | ଭାର୍‌ , ଲାଞ୍ଜି-କାରାପ୍‌, ଲାନ୍ଦ୍‌ ବାନ୍ଦ୍‌ ,ଜୁଟାମ୍‌ ପାଢ଼ିୟ୍‌ |\n",
            "| advantage       | Adjective      | ଲାବାମ୍‌ |\n",
            "| advice          | Noun           | ମେଲ୍‌ ତା ମାଟା ତେ ବୋଦିସାନାଦ୍‌ |\n",
            "| Aegle marmelous | tree Noun      | ମାଡ଼ ମାଡ଼ା |\n",
            "| Aecroplane      | Noun           | ପର୍ରତ୍‌ ଜାହାଜ୍‌ |\n",
            "| affect          | Noun           | କାଷ୍ଟାମ୍‌ ବାର୍ତାନାଦ୍‌ |\n",
            "| affectionately  | Adverb         | ପ୍ରେମାତେ .477,¿/୬. |\n",
            "| affliction      | Noun           | ତିପ୍‌ ପାଲ୍‌ |\n",
            "| &1'810          | Adjective      | 6991Q1Q |\n",
            "| afresh          | Adverb         | କରା ଲେକେ |\n",
            "| after           | Adposition     | ପେର୍କେ |\n",
            "| after a long time | Preposition  | ବେଚର୍‌ ରଜ୍‌ ପେର୍‌ କେ |\n",
            "| after birth     | Noun           | ପୋଦୁର୍‌ ପୁଙ୍ଗାର୍‌ |\n",
            "GPT_outputs/page10_2.png.pdf.txt\n",
            "Here is the formatted table:\n",
            "\n",
            "| Word in English | Part of Speech | Odiya Translation |\n",
            "| --- | --- | --- |\n",
            "| axe | Noun | ଗଡ଼େଲ୍ଲୀ |\n",
            "| ayurveda | Noun | ଆୟୁର୍ବେଦ |\n",
            "| କୋଞ୍ଜି ୱାଦାନ୍ | Noun | କୋଞ୍ଜି ଶିକ୍ଷକ |\n",
            "| bank of river | Noun | ନଦୀପଟଟ |\n",
            "| banner | Noun | ସିଲେ ତା ମାଟା ରାସି |\n",
            "| ମାନ୍ଦାନ୍ | Noun | ମାନ୍ଦାନ୍ |\n",
            "| banticoot | Noun | ପାନ୍ଦି କକୁ |\n",
            "| banyan tree | Noun | ବଟ |\n",
            "| baptise | Noun | ଏର୍ ଦା ମୁଣୁଙିଂସି |\n",
            "| , ଇଲ୍ କ୍ରିଶି ,ଖ୍ରୀଷ୍ଟ ଦାର୍ମାମ୍ | Noun | ଖ୍ରୀଷ୍ଟ |\n",
            "| ନାମ୍ମାନାଦ୍ | Noun | ନାମ୍ମାନାଦ୍ |\n",
            "| barber | Noun | ନାପୁଂର |\n",
            "| bard | Noun | ପାଟା ରାସାନାଦ୍ |\n",
            "| bark | Noun | କୁଣ୍ଡା |\n",
            "| bark of tree | Verb | କୁଣ୍ଡା ହେଉଛି |\n",
            "| barking | Noun | ଭୁସ୍ତା |\n",
            "| barns,barnyard | Noun | ଗରୁ ଛାଳ |\n",
            "| barren | Noun | ଉବଳା |\n",
            "| barren land | Adjective | ଉବଳ |\n",
            "| barrier | Noun | ପ୍ରତିଷେଧ |\n",
            "| basement | Noun | ପୁରୀ |\n",
            "| bashfulness | Adverb | ଲାଜରେ |\n",
            "| ଦୁକ୍ କାମ୍ ଆଦାନାଦ୍ | Noun | ଦୁକ୍ କାମ୍ ଆଦାନା |\n",
            "| basil leaves | Noun | ତୁଳସୀ ପତ୍ର |\n",
            "| basin | Noun | ବାସିନ୍ |\n",
            "| ବେଡ଼ିୟା ଗିନି | Noun | ବେଡ଼ିୟା ଦେଉଳ |\n",
            "GPT_outputs/page10_1.png.pdf.txt\n",
            "Here is your formatted table:\n",
            "\n",
            "| Word in English | Part of Speech | Odiya Translation |\n",
            "| --- | --- | --- |\n",
            "| awake | Noun | ତେଦିସାନାଦ୍‌ |\n",
            "| aware | Noun | ପୁନ୍ଦାନାଦ୍‌ |\n",
            "| away | Adverb | ଦୁରାମ୍‌ ତେ |\n",
            "| awe | Noun | ବାକ୍‌ ତି ତେ QIQ ରେଲାନାଦ୍‌ |\n",
            "| B - b | Noun | ବି - ବି |\n",
            "| badly | Adverb | କାରାବ୍‌ ତେ |\n",
            "| 80:15 | Noun | ?lﬂl,Q@\\ |\n",
            "| baker | Noun | ରୋଟି ଆମ୍‌ ମାନୋଣ୍ତ |\n",
            "| balance | Noun | କାର୍ସ୍‌ ଆଭା ପେର୍କେ ମିଗାଲ୍‌ ତାଦ୍‌ |\n",
            "| balance | Noun | @8 କି |\n",
            "| balcony | Noun | ମେଡ଼ା ଲୋତ୍‌ ଗଡ଼ା |\n",
            "| bald | Adjective | ଟେକ୍‌ କା,ପୋଡା |\n",
            "| Balearic myrobalam tree | Noun | ତାହାକା ଟାଣି ୪୫୩୩ କାର୍ସାନାଦ୍‌ ବଲ୍‌, ବାନ୍ତ୍‌ |\n",
            "| ball of rice | Verb | ଗୋଙ୍ଗା |\n",
            "| ball of thread | Noun | @ ଲୁଣ୍ଡା |\n",
            "| balsam | Noun | ଟଗର୍‌ ଏଟ୍‌ |\n",
            "| bamboo | Noun | ସୈଦୁର୍‌ |\n",
            "| bamboo basket | Noun | ଗାମ୍ପା,କୁଶ୍‌ ଶା |\n",
            "| bamboo mat | Noun | ସାମ୍‌ ପା ,ଟାଟ୍‌ |\n",
            "| bamboo tree | Noun | ହିଦ୍‌ |\n",
            "| banana fruit | Noun | 6291 Q18 |\n",
            "| banana tree | Noun | କେଡ଼ା ମାଡ଼ା |\n",
            "| bandage | Noun | ମାତ୍‌ ଓାଟି ତୋଉାନାଦ୍‌,ମାର୍‌ ସୀଲେ |\n",
            "| bandi ୦୦୦୮ rat | Noun | ମୁସ୍‌ ଚେଟେଲ୍‌ |\n",
            "| bangle | Noun | ଗାଜୁମ୍‌ |\n",
            "GPT_outputs/page10_{i}.png.pdf.txt\n",
            "Here's the formatted table:\n",
            "\n",
            "| Word in English | Part of Speech | Odiya Translation |\n",
            "| --- | --- | --- |\n",
            "| axe | Noun | ଗଡ଼େଲ୍‌ |\n",
            "| ayurveda | Noun | ମାଡ଼ା ଆକି ପଦାଲା |\n",
            "| କୋଞ୍ଜି ୱାଦାନ୍‌ ମାତ୍‌ | |  |\n",
            "| bank of river | Noun | ଓଡିନାଗା |\n",
            "| banner | Noun | ସୀଲେ ତା ମାଟା ରାସି |\n",
            "| ମାନ୍ଦାନ୍‌ ଜେଣ୍ଡା | | |\n",
            "| banticoot | Noun | ପାନ୍ଦି କକୁ |\n",
            "| banyan tree | Noun | ମାରି ମାଡ଼ାମ୍‌ |\n",
            "| baptise | Noun | ଏର୍‌ ଦା ମୁଣୁଙିଂସି |\n",
            "| , ଇଲ୍‌ କ୍ରିଶି ,ଖ୍ରୀଷ୍ଟ ଦାର୍ମାମ୍‌ | | |\n",
            "| ନାମ୍ମାନାଦ୍‌ | | |\n",
            "| barber | Noun | ମାଙ୍ଗେଲ୍‌ |\n",
            "| bard | Noun | ପାଟା ରାସାନାଦ୍‌ |\n",
            "| bark | Noun | ମୋରୁମ୍‌ |\n",
            "| bark of tree | Verb | ଏରାନାଦ୍‌ |\n",
            "| barking | | ବୁସ୍ତା |\n",
            "| barns,barnyard | Noun | ଦଜାତ୍‌ ଲୋନ୍‌ |\n",
            "| barren | Noun | ଓଆାଞ୍ଜା ନାଟା |\n",
            "| barren land | Adjective | ଉଭା ବୂମ୍‌ |\n",
            "| barrier | | ଆଡାମ୍‌ |\n",
            "| basement | Noun | Q1€ ଞସାମ୍‌ |\n",
            "| bashfulness | Adverb | AR ବାର୍ଶୋରେ |\n",
            "| ଦୁକ୍‌ କାମ୍‌ ଆଦାନାଦ୍‌ | | |\n",
            "| basil leaves | Noun | @R ସି |\n",
            "| basin | Noun | ଦୋଡ଼ା ତାସାନ୍‌ |\n",
            "| ବେଡ଼ିୟା ଗିନି | | |\n",
            "GPT_outputs/page7_0.png.pdf.txt\n",
            "Here is the formatted table:\n",
            "\n",
            "| Word | Part of Speech | Odia Translation |\n",
            "|------|------------------|---------------------|\n",
            "| a | Adjective& Article | ଅର୍ରୋଟ୍‌ |\n",
            "| a few | Adjective | ଇକୁଡ଼୍‌ |\n",
            "| 8 little | Adjective | ଉଚୁଟ୍‌ |\n",
            "| a short time | Adjective | ସାମାୟାମ୍‌ |\n",
            "| abandon | Verb | ସିଦାନ୍‌ |\n",
            "| abashment | Noun | ସିଗ୍‌ |\n",
            "| abdomen | Noun | ଅଣ୍ଡର୍ବାଡ଼ୁ |\n",
            "| abdominal | Noun | ଡକା, ଡଙ୍ଗ୍‌ |\n",
            "| aberration | Noun | ନିଜାମ୍‌ ଦାର୍ମାମ୍‌ ଆର୍‌ କୁଞ୍ଚି ଏୀରାନାଦ୍‌ |\n",
            "| abide | Verb | ମାଟ୍ଟାତ୍‌ ଲେକେ ପାଡ଼ିୟ୍‌ ତୁଙ୍ଗାନାଦ୍‌, ଜୋଡ଼େମ୍‌ ଆଶ୍‌ ମାନ୍ଦାନାଦ୍‌ |\n",
            "| abomination | Noun | ପାଶ୍‌ କାନାଦ୍‌, ପେର୍ଲାନାଦ୍‌ |\n",
            "| abortion | Noun | ପିଲା ଡକାତା କାର୍‌ ସିଂ ଆନ୍ଦାନାଦ୍‌ |\n",
            "| about | Adverb | ଏ ଏତିତ୍‌ |\n",
            "| about to do | Preposition | 16616 |\n",
            "| above | Preposition | ପର |\n",
            "| abscess | Noun | ବଗ୍‌ ଗା |\n",
            "| absent | Adverb | ମାନ୍ୋ |\n",
            "| abstinent | Noun | ଗାଇରେମ୍‌ |\n",
            "| abundance | Adjective | ଦିବେଡ଼୍‌ |\n",
            "| abuse | Verb | ମାୟ୍‌ ମ୍‌ |\n",
            "| acceptance | Noun | ନାମ୍‌ କାମ୍‌ ମାଡ଼ାନାଦ୍‌ |\n",
            "| accident | Noun | QIR 9 ତା |\n",
            "| according to | Adverb | ପ୍ରାକାରାମ୍‌ |\n",
            "GPT_outputs/page8_1.png.pdf.txt\n",
            "Here is the formatted table:\n",
            "\n",
            "| Word in English          | Part of speech       | Odiya Translation |\n",
            "|--------------------------|-----------------------|-----------------------|\n",
            "| along with               | Adverb                | ନା ତୋଡେ              |\n",
            "| already                  | Adverb                | ଇଦିନ୍‌ ମୁନ୍ନେ          |\n",
            "| Coordinating             | connective            | ମାଲା                  |\n",
            "| altar                    | Verb                  | 19                    |\n",
            "| alter                    | Noun                  | ପୃଜାତ୍‌ ବୀଡ଼ା,ଗୁଡ଼ଇୟ୍‌ ଦା ମୁନ୍‌ ନେ ମାନ୍ଦାନ୍‌ ପଡ଼ିୟ୍‌, Verb. ମାରିସାନାଦ୍‌ |\n",
            "| alternately              | Adverb                | ଅଣ୍ଡୋୟ୍‌ ଦତୃସି ମେଣ୍ଡେ ଅଣ୍ଡୋୟ୍‌ |\n",
            "| Connective               | connective            | ମାତକେ ବା            |\n",
            "| always                   | Adverb                | ସାର୍ରେ ସାମାୟାମ୍‌      |\n",
            "| ambassador               | Noun                  | ରାଜାନ୍‌ କାବୂର୍‌ ମୋସାନୋଣ୍ଟ     |\n",
            "| ambiguously              | Adverb                | ଡାୱ୍‌ଟ୍‌ ତେ            |\n",
            "| ambition                 | Noun                  | ନାର୍ଗେ ଇଷ୍ଟାମ୍‌ ମାଡ଼ାନାଦ୍‌   |\n",
            "| ambush                   | Noun                  | 88 ପୟ୍‌ ଭାନାଦ୍‌       |\n",
            "| amen                     | Noun                  | ଆଲେ ଆଦାଞୱାଲ୍‌         |\n",
            "| amiable                  | Adjective             | କୋରାନାଦ୍‌            |\n",
            "| amicable                 | Verb                  | ସୁକ୍‌ କାମ୍‌ ଭଦାନୋର୍‌ |\n",
            "| among                    | Preposition           | ଲପେ                   |\n",
            "| amongst                  | Preposition           | ନାଡ଼ ମେ              |\n",
            "| ample                    | Noun                  | Q1661                 |\n",
            "| an auspicious day        | Noun                  | ମେଲ୍‌ ତା ରୋଜ୍‌        |\n",
            "| anaemia                  | Noun                  | ନେଉର୍‌ ଇଲ୍‌ ଓ ରୋଗାମ୍‌ |\n",
            "| analysis                 | Noun                  | ସାୟା ଉଡ଼ାନାଦ୍‌      |\n",
            "| ancestors                | Noun                  | ଆନାଲୋର               |\n",
            "| ancestral property      | Adjective             | ନେଟୋର୍‌ ବୁମ୍‌        |\n",
            "| ancient age              | Adjective             | J62Q                  |\n",
            "GPT_outputs/page9_{i}.png.pdf.txt\n",
            "Here's the formatted table:\n",
            "\n",
            "| Word in English | Part of speech | Odiya Translation |\n",
            "|-------------------|----------------|------------------------|\n",
            "| astutely             | Adverb           | ଚାଲାକି ତେ                    |\n",
            "| at                       | Preposition   | ତାଗା                            |\n",
            "| at 1 am               | Noun             | ନାର୍କା 2§ ଗାଣ୍ଡା           |\n",
            "| at 1 pm               | Noun             | ପାୟାଲ୍‌ ଅଣ୍ି ଗାଣ୍ଡାଙ୍‌    |\n",
            "| at 10 41?            | Noun             | ପାଦି ଗାଣ୍ଡାଙ୍କ୍‌          |\n",
            "| at intervals         | Adverb           | ମାଜେମ୍‌                    |\n",
            "| ମାଜେମ୍‌               |                    |                                |\n",
            "| atonce                | Adverb           | କେ,ଞେଣ୍ଟେ                     |\n",
            "| at such an early age | Adverb           | ଇଚୋଟ୍‌ ସୁଡ଼ୂଲା               |\n",
            "| at the point of      | Noun             | ଆଦାନ୍‌                       |\n",
            "| atheism              | Noun             | ବାଗାୱାନ୍‌ ତା ନାମ୍‌       |\n",
            "| atmosphere           | Noun             | ସାର୍ରେ ପାକ୍‌ କା ମାନ୍ଦାନ୍‌ ଗାଲ୍‌ |\n",
            "| atone                 | Verd             | ମାଡ଼୍‌ ତା ପାପ୍‌ ପାମ୍‌ |\n",
            "|                       |                  | ସେଙ୍ଗେ ଦୁକ୍‌ କାମ୍‌        |\n",
            "|                       |                  | ଆଦାନାଦ୍‌,ଉଶ୍‌ ରାନାଦ୍‌ |\n",
            "| attachment           | Noun             | ପ୍ରେମା                       |\n",
            "| attack               | Verb             | 39 ବାର୍ଦାନାଦ୍‌               |\n",
            "| attentively         | Adverb           | ମକ୍‌ କାରିଞି                   |\n",
            "| attract              | Verd             | ମାନ୍‌ @1QUQ              |\n",
            "| attraction           | Noun             | କୋରାନାଦ୍‌                   |\n",
            "| attractive           | Adjective       | ଇଷଟାମ୍‌ ତେ                  |\n",
            "| କୋରାନାଦ୍‌            |                  |                                |\n",
            "| audacity             | Noun             | ଗାଟ୍‌ ଟି QRIS             |\n",
            "| audible breath       | Adjective      | ପସ୍‌ ପସ୍‌                  |\n",
            "| 62309                |                  |                                |\n",
            "| audience            | Noun             | ଉଡ଼ାନୋର୍‌ 9                |\n",
            "| aunt                  | Noun             | ପୋୟେ                        |\n",
            "| auspicious          | Adjective      | ମେଲ୍‌ ତା                   |\n",
            "GPT_outputs/page9_0.png.pdf.txt\n",
            "| Word in English | Part of Speech | Odiya Translation |\n",
            "| --- | --- | --- |\n",
            "| 2 |  |  |\n",
            "| 9 |  |  |\n",
            "| 1 |  |  |\n",
            "| 1 |  |  |\n",
            "| 8! | Adverb |  |\n",
            "| apathy | Noun | ସାୟାମ୍‌ ମାଡ଼ାନ୍‌ ଆଲ୍‌ ପ୍‌ ଇଲୁକୂଟେ ମାନ୍ଦାନୋନ୍‌ |\n",
            "| ପ୍‌ ଇଲୁକୂଟେ ମାନ୍ଦାନୋନ୍‌ |  |  |\n",
            "| appear | Verb | ତୋପାନାଦ୍‌ |\n",
            "| apple | Noun | Q01 QI€ |\n",
            "| apple fruit | Noun | ଆପ୍‌ ଲେଶ୍‌ ପାଣ୍ଟ, ଆପ୍‌ ପିଲ୍‌ |\n",
            "| apple 0୮ eyes | Noun | କାଣ୍ଡ ପାପା |\n",
            "| applying | ୦11 [⁄‰/# | ନୀ ଅକାନାଦ୍‌ |\n",
            "| approbation | Noun | ଅପାନାଦ୍‌ |\n",
            "| approval | Noun | ଅପାନାଦ୍‌ |\n",
            "| approximately | Adverb | ପାକ୍‌ କା ପାକ୍‌ କା |\n",
            "| are | Verb | ମିନ୍ଦେର୍‌ |\n",
            "| areca nut palm | Noun | କୋୱା ମାଡ଼ା |\n",
            "| arise | Verb | ତେଦାନାଦ୍‌ |\n",
            "| ark | Noun | ନୋୱାନାଦ୍‌ ବେଡ଼ିୟା ଏର୍‌ ଜାହାଜ୍‌ |\n",
            "| arm | Noun | ଜେବାକାଇ ଥ1111011୮ ତା,ଜାଗାଡ଼ା ତା - ଗେଲ୍‌ ସାନ୍‌ ମାୟ୍‌ ଦିଙ୍କ୍‌ କେର୍ତାନ୍‌ କୁସାମ୍‌ |\n",
            "| armpit | Noun | ସାଙ୍କା |\n",
            "| army | Noun | ସୋୟ୍‌ ନର୍କ 810010 |\n",
            "| Preposition | ତ୍ରି ପାକ୍‌ କା |\n",
            "| arrange | Verb | ସାଦ୍‌ ରାନାଦ୍‌ |\n",
            "| arrest | Verb | ଇକ୍‌ ଲେମ୍‌ ତେ ନେରାମ୍‌ ଆଭୋର୍‌ କାୟ୍‌ କିଙ୍କ୍‌ ପୋଲିଶ୍‌ ନାରୁର୍‌ ତକ୍‌ |\n",
            "| arrival | verb | ଏଏୁତାନାଦ୍‌ |\n",
            "| arrogance | Noun | କୃପାମ୍‌ |\n",
            "| arrow stick | Noun | ଲୋଦାକାଡ଼୍‌ |\n",
            "| arrowquiver | Noun | ମିଟା |\n",
            "GPT_outputs/page10_0.png.pdf.txt\n",
            "| Word in English | Part of Speech | Odiya Translation |\n",
            "| --- | --- | --- |\n",
            "| austerity | Noun | ବାୟାମ୍‌ ମାଲାମ୍‌ |\n",
            "| author | Noun | ବଇ ରାସାନୋଣ୍ଡ |\n",
            "| authority | Noun | ଆଦିକାରାମ୍‌ |\n",
            "| autumn | Noun | ପେଦା ମାଣି କାଲାମ୍‌ |\n",
            "| avoid | N/A | ଏଗ୍‌ ଦେଙ୍କାନାଦ୍‌ |\n",
            "| babbler | Noun | ଏକ୍‌ ଓ ତ୍ରୀୟ୍‌ ନୋନ୍‌ |\n",
            "| ୨୫୬୨ | Noun | ପାପାଲ୍‌ |\n",
            "| bachelor | Noun | ମାଣୁଷୁଣ୍ଠ |\n",
            "| bachelor's buttons | Noun | ମାଡ଼ା ମାଲି ପୁଙ୍ଗାର୍‌ |\n",
            "| back biting | Noun | ସୁକ୍‌ ଲି ତୁଙ୍ଗିଭର୍‌ |\n",
            "| back bitter | Noun | ପେର୍ଲାନାଦ୍‌ |\n",
            "| back of the body | Noun | ଜେବା, ମୁର୍ସୁଲ୍‌ |\n",
            "| backbite | Noun | ପେର୍ଲାନାଦ୍‌, ଆୟ୍‌ କ୍‌ ତୀରିୟ୍‌ |\n",
            "| backward | Adjective | ପେର୍କେ |\n",
            "| backyard of house | Noun | ଲୋନ୍‌, ପାଞ୍ଚ୍‌ 69K |\n",
            "| bacteria, virus | Noun | କାଣ୍ଡ @& ତପ୍‌ ପିଲ୍‌ ପୂଡ଼ିକ୍‌ |\n",
            "| bad idea | Adjective | Q19 ପୁ ଆଲ୍‌ ପୁ |\n",
            "| bad luck | Adjective | କାରାପ୍‌, ଆଡୁଷ୍ଟାମ୍‌ |\n",
            "| bad name | Noun | କାରାବ୍‌ ପେଦେର୍‌ |\n",
            "| bad smell | Noun | କାରାବ୍‌ ଗାବ୍‌ |\n",
            "| bad tempered | Adjective | QIS କୋପାମ୍‌ |\n",
            "| bad word | Noun | ସେଡା ମାଟା ପୀନ୍ଦ, ପାର୍‌ ନ୍ଦୁ ଲ୍‌ ଗଟି, ପୀନ୍ଦ, କାରାପ୍‌ |\n",
            "GPT_outputs/page7_1.png.pdf.txt\n",
            "Here's your formatted table:\n",
            "\n",
            "| Word in English | Part of Speech | Odiya Translation |\n",
            "| --- | --- | --- |\n",
            "| A | Adjective&Article | ଅ |\n",
            "| accordingly | Adverb | ଆଦିଙ୍କ୍‌ ଲେକେ |\n",
            "| accuse | Verb | ନେରାମ୍‌ ଓାଟ୍ଟାନାଦ୍‌ |\n",
            "| accusing | Noun | ତେ ଦୋଷ୍‌ (ନେରାମ୍‌ ତାପ୍‌) ୱାଟାନାଦ୍‌,ପେର୍‌ ଲାନାଦ୍‌ |\n",
            "| ache | Noun | ତା |\n",
            "| achievement | Noun | ବେଚୋର୍‌ ନାରୂର୍‌ ତୁଙ୍ଗା ପାର୍‌ ତିଲା ପାଡ଼ିୟ୍‌ ଦା ଜୀଡ଼ାନାଦ୍‌ |\n",
            "| act | Verb | ନାଟ୍‌ କାମ୍‌ ତୁଂତଣ୍ଠ |\n",
            "| act against | †⁄‰⁄# | ଓିରୋଦାମ୍‌ ତେ ପାଡ଼ିୟ୍‌ ତୁଙ୍ଗାନାଦ୍‌ |\n",
            "| act after | 1⁄+ | ପରାକାରାମେ ପାଡ଼ିୟ୍‌ ତୁଙ୍ଗାନାଦ୍‌ |\n",
            "| act harshly | 1. | ନାର୍ଗେ କାଷ୍ଟାମ୍‌ ଭଦାନାଦ୍‌ |\n",
            "| act churning | ୦୮ | ଞିଛାନାଦ୍‌ |\n",
            "| acting | Noun | ନାଟ୍‌ କାମ୍‌ ତୋପିସାନାଦ୍‌ |\n",
            "| action | Noun | ପାଡ଼ିୟ୍‌ |\n",
            "| active | Verb | କୁସେଲେ QQQ ମାଞ୍ଜ୍‌ ଜାପେ ଜାପେ ପାଡ଼ିୟ୍‌ ମାଡ଼ାନାଦ୍‌ |\n",
            "| actor | Noun | ନାଟ୍‌ କାମ୍‌ ତୋପିସାନୋଣ୍ତ |\n",
            "| actress | Noun | ନାଟ୍‌ କାମ୍‌ ତୋପିସାନ୍‌ ନାଟା |\n",
            "| acts | ୦୮ 111 Verp. 99 | ପାନାଦ୍‌ |\n",
            "| adapt | †‰⁄/. | ଆଲ୍‌ ଓଟ୍‌ ଆସି ପାଡ଼ିୟ୍‌ ତେ ସାୟା ମାନ୍ଦାନାଦ୍‌ |\n",
            "GPT_outputs/page8_2.png.pdf.txt\n",
            "| Word in English | Part of speech | Odiya Translation |\n",
            "| --- | --- | --- |\n",
            "| and | Connective | ଏବଂ |\n",
            "| angel | Noun | ଦୁତ |\n",
            "| angels | Noun | ଦେଏ ଦୁତ୍‌,କାବୁର୍‌ ତୋର୍‌ |\n",
            "| angle | Noun | ମୂଲା |\n",
            "| angry | Verb | ଆଲ୍ଲାମ୍‌ |\n",
            "| angular gourd | Noun | କାୟା |\n",
            "| animals | Noun | ପଶୁ |\n",
            "| ankle | Noun | କାୟ୍‌, ବଟ ମିଣ୍ଡା |\n",
            "| anklet | Noun | କାଲ୍‌ ପାଟେ |\n",
            "| annoying | Verb | ଆଦାନାଦ୍‌ |\n",
            "| anoint | Verb | ରାସାନାଦ୍‌, ତଚଚାନାଦ୍‌ |\n",
            "| answer | Noun | ଉତ୍ତର |\n",
            "| answering | Verb | ଜାଣାଇବା |\n",
            "| ant | Noun | ପୀଟ |\n",
            "| ant eater | Noun | ନୁସ୍‌ ଓସ୍‌ |\n",
            "| ant hill | Noun | ପୀଟ |\n",
            "| antichrist | Noun | ପରିକର୍ଷକ ଈଶ୍ୱର |\n",
            "| anticipate | Noun | କାମନା ମାନ୍ଦାନ୍‌ |\n",
            "| anus | Noun | ଗୁଦ |\n",
            "| anus bowel | Noun | ପାର୍ଶ୍ୱ ଗୁଦ |\n",
            "| anxiety | Noun | ସଂକଟ |\n",
            "| any how | Adverb | ଯେଥାଏ ଯେଉଁଠି |\n",
            "| anyone | Pronoun | କୌଣସି |\n",
            "| anyway | Adverb | ଯେତେବେଳେଇତେ |\n"
          ]
        }
      ]
    },
    {
      "cell_type": "markdown",
      "source": [
        "## 7. Combining the GPT outputs into the final parsed csv\n"
      ],
      "metadata": {
        "id": "Iqm-FuGlAXwc"
      }
    },
    {
      "cell_type": "code",
      "source": [
        "try:\n",
        "  os.mkdir('parsed_dicts')\n",
        "except:\n",
        "  pass\n",
        "\n",
        "\n",
        "import pandas as pd\n",
        "import numpy as np\n",
        "import os\n",
        "\n",
        "dataframes = []\n",
        "source_dir = f'GPT_outputs'\n",
        "\n",
        "for df_link in os.listdir(source_dir):\n",
        "    try:\n",
        "\n",
        "        df_full_source = f'{source_dir}/{df_link}'\n",
        "        print(df_link)\n",
        "        df = pd.read_csv(f'{df_full_source}', sep='|', on_bad_lines='skip')\n",
        "        if df.shape[1] != 5:\n",
        "            continue\n",
        "        df = df.iloc[:, 1:-1]\n",
        "        df.columns = ['English Word', 'Part of Speech', 'Odia Translation']\n",
        "\n",
        "        dataframes.append(df)\n",
        "        print(df.shape)\n",
        "    except Exception as e:\n",
        "        print(e)\n",
        "        \n",
        "    \n",
        "\n",
        "data = pd.concat(dataframes, axis=0).reset_index(drop=True)\n",
        "print(data.shape)\n",
        "rows_to_remove = data[(data[data.columns[0]].str.contains('-')) & (data[data.columns[1]].str.contains('-')) & (data[data.columns[2]].str.contains('-'))].index\n",
        "data = data.drop(rows_to_remove)\n",
        "\n",
        "data.to_csv('parsed_dicts/parsed_dict_very_unclean.csv', index=None)"
      ],
      "metadata": {
        "colab": {
          "base_uri": "https://localhost:8080/"
        },
        "id": "UrUPcrJmAhBg",
        "outputId": "e493b718-f45c-4350-c78b-38b735239d67"
      },
      "execution_count": null,
      "outputs": [
        {
          "output_type": "stream",
          "name": "stdout",
          "text": [
            "page9_1.png.pdf.txt\n",
            "(22, 3)\n",
            "page8_{i}.png.pdf.txt\n",
            "(25, 3)\n",
            "page8_0.png.pdf.txt\n",
            "(31, 3)\n",
            "page7_{i}.png.pdf.txt\n",
            "(25, 3)\n",
            "page9_2.png.pdf.txt\n",
            "(25, 3)\n",
            "page7_2.png.pdf.txt\n",
            "(22, 3)\n",
            "page10_2.png.pdf.txt\n",
            "(27, 3)\n",
            "page10_1.png.pdf.txt\n",
            "(26, 3)\n",
            "page10_{i}.png.pdf.txt\n",
            "(27, 3)\n",
            "page7_0.png.pdf.txt\n",
            "(24, 3)\n",
            "page8_1.png.pdf.txt\n",
            "(25, 3)\n",
            "page9_{i}.png.pdf.txt\n",
            "(29, 3)\n",
            "page9_0.png.pdf.txt\n",
            "(30, 3)\n",
            "page10_0.png.pdf.txt\n",
            "(23, 3)\n",
            "page7_1.png.pdf.txt\n",
            "(19, 3)\n",
            "page8_2.png.pdf.txt\n",
            "(25, 3)\n",
            "(405, 3)\n"
          ]
        }
      ]
    },
    {
      "cell_type": "code",
      "source": [
        "data.tail()"
      ],
      "metadata": {
        "colab": {
          "base_uri": "https://localhost:8080/",
          "height": 206
        },
        "id": "WV7ooBUUC0zM",
        "outputId": "bd398707-3807-4de7-dad4-eae117d26027"
      },
      "execution_count": null,
      "outputs": [
        {
          "output_type": "execute_result",
          "data": {
            "text/plain": [
              "     English Word Part of Speech Odia Translation\n",
              "400   anus bowel           Noun      ପାର୍ଶ୍ୱ ଗୁଦ \n",
              "401      anxiety           Noun             ସଂକଟ \n",
              "402      any how         Adverb     ଯେଥାଏ ଯେଉଁଠି \n",
              "403       anyone        Pronoun            କୌଣସି \n",
              "404       anyway         Adverb      ଯେତେବେଳେଇତେ "
            ],
            "text/html": [
              "\n",
              "  <div id=\"df-d07724cf-6edb-45bd-ad4c-3c5b537d920d\">\n",
              "    <div class=\"colab-df-container\">\n",
              "      <div>\n",
              "<style scoped>\n",
              "    .dataframe tbody tr th:only-of-type {\n",
              "        vertical-align: middle;\n",
              "    }\n",
              "\n",
              "    .dataframe tbody tr th {\n",
              "        vertical-align: top;\n",
              "    }\n",
              "\n",
              "    .dataframe thead th {\n",
              "        text-align: right;\n",
              "    }\n",
              "</style>\n",
              "<table border=\"1\" class=\"dataframe\">\n",
              "  <thead>\n",
              "    <tr style=\"text-align: right;\">\n",
              "      <th></th>\n",
              "      <th>English Word</th>\n",
              "      <th>Part of Speech</th>\n",
              "      <th>Odia Translation</th>\n",
              "    </tr>\n",
              "  </thead>\n",
              "  <tbody>\n",
              "    <tr>\n",
              "      <th>400</th>\n",
              "      <td>anus bowel</td>\n",
              "      <td>Noun</td>\n",
              "      <td>ପାର୍ଶ୍ୱ ଗୁଦ</td>\n",
              "    </tr>\n",
              "    <tr>\n",
              "      <th>401</th>\n",
              "      <td>anxiety</td>\n",
              "      <td>Noun</td>\n",
              "      <td>ସଂକଟ</td>\n",
              "    </tr>\n",
              "    <tr>\n",
              "      <th>402</th>\n",
              "      <td>any how</td>\n",
              "      <td>Adverb</td>\n",
              "      <td>ଯେଥାଏ ଯେଉଁଠି</td>\n",
              "    </tr>\n",
              "    <tr>\n",
              "      <th>403</th>\n",
              "      <td>anyone</td>\n",
              "      <td>Pronoun</td>\n",
              "      <td>କୌଣସି</td>\n",
              "    </tr>\n",
              "    <tr>\n",
              "      <th>404</th>\n",
              "      <td>anyway</td>\n",
              "      <td>Adverb</td>\n",
              "      <td>ଯେତେବେଳେଇତେ</td>\n",
              "    </tr>\n",
              "  </tbody>\n",
              "</table>\n",
              "</div>\n",
              "      <button class=\"colab-df-convert\" onclick=\"convertToInteractive('df-d07724cf-6edb-45bd-ad4c-3c5b537d920d')\"\n",
              "              title=\"Convert this dataframe to an interactive table.\"\n",
              "              style=\"display:none;\">\n",
              "        \n",
              "  <svg xmlns=\"http://www.w3.org/2000/svg\" height=\"24px\"viewBox=\"0 0 24 24\"\n",
              "       width=\"24px\">\n",
              "    <path d=\"M0 0h24v24H0V0z\" fill=\"none\"/>\n",
              "    <path d=\"M18.56 5.44l.94 2.06.94-2.06 2.06-.94-2.06-.94-.94-2.06-.94 2.06-2.06.94zm-11 1L8.5 8.5l.94-2.06 2.06-.94-2.06-.94L8.5 2.5l-.94 2.06-2.06.94zm10 10l.94 2.06.94-2.06 2.06-.94-2.06-.94-.94-2.06-.94 2.06-2.06.94z\"/><path d=\"M17.41 7.96l-1.37-1.37c-.4-.4-.92-.59-1.43-.59-.52 0-1.04.2-1.43.59L10.3 9.45l-7.72 7.72c-.78.78-.78 2.05 0 2.83L4 21.41c.39.39.9.59 1.41.59.51 0 1.02-.2 1.41-.59l7.78-7.78 2.81-2.81c.8-.78.8-2.07 0-2.86zM5.41 20L4 18.59l7.72-7.72 1.47 1.35L5.41 20z\"/>\n",
              "  </svg>\n",
              "      </button>\n",
              "      \n",
              "  <style>\n",
              "    .colab-df-container {\n",
              "      display:flex;\n",
              "      flex-wrap:wrap;\n",
              "      gap: 12px;\n",
              "    }\n",
              "\n",
              "    .colab-df-convert {\n",
              "      background-color: #E8F0FE;\n",
              "      border: none;\n",
              "      border-radius: 50%;\n",
              "      cursor: pointer;\n",
              "      display: none;\n",
              "      fill: #1967D2;\n",
              "      height: 32px;\n",
              "      padding: 0 0 0 0;\n",
              "      width: 32px;\n",
              "    }\n",
              "\n",
              "    .colab-df-convert:hover {\n",
              "      background-color: #E2EBFA;\n",
              "      box-shadow: 0px 1px 2px rgba(60, 64, 67, 0.3), 0px 1px 3px 1px rgba(60, 64, 67, 0.15);\n",
              "      fill: #174EA6;\n",
              "    }\n",
              "\n",
              "    [theme=dark] .colab-df-convert {\n",
              "      background-color: #3B4455;\n",
              "      fill: #D2E3FC;\n",
              "    }\n",
              "\n",
              "    [theme=dark] .colab-df-convert:hover {\n",
              "      background-color: #434B5C;\n",
              "      box-shadow: 0px 1px 3px 1px rgba(0, 0, 0, 0.15);\n",
              "      filter: drop-shadow(0px 1px 2px rgba(0, 0, 0, 0.3));\n",
              "      fill: #FFFFFF;\n",
              "    }\n",
              "  </style>\n",
              "\n",
              "      <script>\n",
              "        const buttonEl =\n",
              "          document.querySelector('#df-d07724cf-6edb-45bd-ad4c-3c5b537d920d button.colab-df-convert');\n",
              "        buttonEl.style.display =\n",
              "          google.colab.kernel.accessAllowed ? 'block' : 'none';\n",
              "\n",
              "        async function convertToInteractive(key) {\n",
              "          const element = document.querySelector('#df-d07724cf-6edb-45bd-ad4c-3c5b537d920d');\n",
              "          const dataTable =\n",
              "            await google.colab.kernel.invokeFunction('convertToInteractive',\n",
              "                                                     [key], {});\n",
              "          if (!dataTable) return;\n",
              "\n",
              "          const docLinkHtml = 'Like what you see? Visit the ' +\n",
              "            '<a target=\"_blank\" href=https://colab.research.google.com/notebooks/data_table.ipynb>data table notebook</a>'\n",
              "            + ' to learn more about interactive tables.';\n",
              "          element.innerHTML = '';\n",
              "          dataTable['output_type'] = 'display_data';\n",
              "          await google.colab.output.renderOutput(dataTable, element);\n",
              "          const docLink = document.createElement('div');\n",
              "          docLink.innerHTML = docLinkHtml;\n",
              "          element.appendChild(docLink);\n",
              "        }\n",
              "      </script>\n",
              "    </div>\n",
              "  </div>\n",
              "  "
            ]
          },
          "metadata": {},
          "execution_count": 99
        }
      ]
    },
    {
      "cell_type": "markdown",
      "source": [
        "# Using DuckDB to search the Database"
      ],
      "metadata": {
        "id": "MjikLh9BaaOK"
      }
    },
    {
      "cell_type": "code",
      "source": [
        "!pip install duckdb"
      ],
      "metadata": {
        "id": "K4Vi--NVahhA"
      },
      "execution_count": null,
      "outputs": []
    },
    {
      "cell_type": "code",
      "source": [
        "!wget https://raw.githubusercontent.com/shrivastava95/odia-dictionary/main/parsed_dicts/parsed_dict_very_unclean.csv -O sample_db.csv"
      ],
      "metadata": {
        "id": "_a4FDWXFal7U"
      },
      "execution_count": null,
      "outputs": []
    },
    {
      "cell_type": "code",
      "source": [
        "import duckdb\n",
        "\n",
        "@timer_decorator\n",
        "def query_csv_file(csv_file):\n",
        "    connection = duckdb.connect(':memory:')\n",
        "    cursor = connection.cursor()\n",
        "\n",
        "    # Create the table schema based on the CSV file\n",
        "    create_table_query = f\"CREATE TABLE sample_in_memory_table AS SELECT * FROM read_csv_auto('{csv_file}');\"\n",
        "    cursor.execute(create_table_query)\n",
        "\n",
        "    # Query the in-memory table\n",
        "    query = f\"SELECT * FROM sample_in_memory_table WHERE column2 = ' ଚିନା ପିଲା ';\"\n",
        "    result = cursor.execute(query).fetchall()\n",
        "    # for row in result:\n",
        "    #     print(row)\n",
        "\n",
        "    connection.close()\n",
        "    return result\n",
        "\n",
        "# Example usage:\n",
        "csv_file = \"sample_db.csv\"\n",
        "result = query_csv_file(csv_file)\n",
        "print(result)"
      ],
      "metadata": {
        "colab": {
          "base_uri": "https://localhost:8080/"
        },
        "id": "fvqFmRwFaycU",
        "outputId": "3497e9b0-2bfa-4baa-f26a-d063adfdae4b"
      },
      "execution_count": 58,
      "outputs": [
        {
          "output_type": "stream",
          "name": "stdout",
          "text": [
            "Execution time for query_csv_file: 0.017114 seconds\n",
            "[(' child ', ' Noun ', ' ଚିନା ପିଲା ')]\n"
          ]
        }
      ]
    },
    {
      "cell_type": "code",
      "source": [],
      "metadata": {
        "id": "EoImwXJYgh_M"
      },
      "execution_count": null,
      "outputs": []
    }
  ]
}